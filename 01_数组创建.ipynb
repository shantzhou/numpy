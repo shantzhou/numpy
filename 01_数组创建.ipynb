{
 "cells": [
  {
   "cell_type": "code",
   "execution_count": 1,
   "metadata": {},
   "outputs": [],
   "source": [
    "import numpy as np"
   ]
  },
  {
   "cell_type": "code",
   "execution_count": 3,
   "metadata": {},
   "outputs": [
    {
     "name": "stdout",
     "output_type": "stream",
     "text": [
      "[0 1 2 3 4] <class 'numpy.ndarray'>\n"
     ]
    }
   ],
   "source": [
    "#一维\n",
    "a = np.array([0, 1, 2, 3 , 4])\n",
    "b = np.array([0, 1, 2, 3 , 4])\n",
    "print(a,type(a))"
   ]
  },
  {
   "cell_type": "code",
   "execution_count": 9,
   "metadata": {},
   "outputs": [
    {
     "name": "stdout",
     "output_type": "stream",
     "text": [
      "[[11 12 13 14 15]\n",
      " [16 17 18 19 20]\n",
      " [21 22 23 24 25]\n",
      " [26 27 28 29 30]\n",
      " [31 32 33 34 35]] <class 'numpy.ndarray'>\n",
      "(5, 5)\n"
     ]
    }
   ],
   "source": [
    "#二维\n",
    "c = np.array([[11, 12, 13, 14, 15],\n",
    "              [16, 17, 18, 19, 20],\n",
    "              [21, 22, 23, 24, 25],\n",
    "              [26, 27, 28, 29, 30],\n",
    "              [31, 32, 33, 34, 35]])\n",
    "print(c, type(c))\n",
    "print(c.shape)"
   ]
  },
  {
   "cell_type": "code",
   "execution_count": 23,
   "metadata": {},
   "outputs": [
    {
     "name": "stdout",
     "output_type": "stream",
     "text": [
      "[[[1.5 2.  3. ]\n",
      "  [4.  5.  6. ]]\n",
      "\n",
      " [[3.  2.  1. ]\n",
      "  [4.  5.  6. ]]] <class 'numpy.ndarray'>\n",
      "(2, 2, 3)\n"
     ]
    }
   ],
   "source": [
    "#三维\n",
    "d = np.array([[(1.5, 2, 3), (4, 5, 6)],\n",
    "              [(3, 2, 1), (4, 5, 6)]])\n",
    "print(d, type(d))\n",
    "print(d.shape)"
   ]
  },
  {
   "cell_type": "code",
   "execution_count": null,
   "metadata": {},
   "outputs": [],
   "source": [
    "# numpy中的array()和asarray()方法非常类似，他们都可以接受列表或数组类型的数据作为参数。\n",
    "# 当他们的参数是列表型数据时，二者没有区别；当他们的参数是数组类型时，\n",
    "# np.array()会返回参数数组的一个副本(copy,2者值一样但指向不同的内存),\n",
    "# np.asarray()会返回参数数组的一个视图(2者指向同一块内存).\n",
    "\n",
    "# 副本会新开辟一块内存，对于大数组来说，会存在大量的复制操作，\n",
    "# 速度更慢且不节约内存；视图相当于新增加了一个指向当前内存的引用，\n",
    "# 不存在复制操作，速度更快且节约内存，但是注意通过其中的一个引用修改数据，\n",
    "# 其他引用的数据也会跟着变，因为他们指向同一块内存区域。\n",
    "\n",
    "\n",
    "# array()仍然会 copy 出一个副本，占用新的内存，但不改变 dtype 时 asarray()不会。"
   ]
  },
  {
   "cell_type": "code",
   "execution_count": 15,
   "metadata": {},
   "outputs": [
    {
     "name": "stdout",
     "output_type": "stream",
     "text": [
      "[[1, 1, 1], [1, 1, 1], [1, 1, 1]]\n",
      "[[1 1 1]\n",
      " [1 1 1]\n",
      " [1 1 1]]\n",
      "[[1, 1, 1], [1, 1, 2], [1, 1, 1]]\n",
      "[[1 1 1]\n",
      " [1 1 1]\n",
      " [1 1 1]]\n"
     ]
    }
   ],
   "source": [
    "#参数是列表时\n",
    "x = [[1, 1, 1], [1, 1, 1], [1, 1, 1]]\n",
    "print(x)\n",
    "y = np.array(x)\n",
    "print(y)\n",
    "z = np.asarray(x)\n",
    "x[1][2] = 2\n",
    "print(x)\n",
    "print(z)"
   ]
  },
  {
   "cell_type": "code",
   "execution_count": 32,
   "metadata": {},
   "outputs": [
    {
     "name": "stdout",
     "output_type": "stream",
     "text": [
      "[[1 1 1]\n",
      " [2 2 2]\n",
      " [1 1 1]]\n",
      "[[1 1 1]\n",
      " [1 1 1]\n",
      " [1 1 1]]\n",
      "[[1 1 1]\n",
      " [2 2 2]\n",
      " [1 1 1]]\n",
      "[[1. 1. 1.]\n",
      " [1. 1. 1.]\n",
      " [1. 1. 1.]]\n"
     ]
    }
   ],
   "source": [
    "#参数是数组时, \n",
    "x = np.array([[1, 1, 1], [1, 1, 1], [1, 1, 1]])\n",
    "y = np.array(x)\n",
    "z = np.asarray(x)\n",
    "w = np.asarray(x, dtype=np.float)# 改变了数据类型 \n",
    "x[1] = 2\n",
    "\n",
    "print(x)\n",
    "print(y)\n",
    "print(z)\n",
    "print(w)"
   ]
  },
  {
   "cell_type": "code",
   "execution_count": 50,
   "metadata": {},
   "outputs": [
    {
     "name": "stdout",
     "output_type": "stream",
     "text": [
      "[[1 1 1]\n",
      " [1 1 1]\n",
      " [1 1 1]] int32\n"
     ]
    },
    {
     "data": {
      "text/plain": [
       "array([[1., 1., 1.],\n",
       "       [1., 1., 1.],\n",
       "       [1., 1., 1.]])"
      ]
     },
     "execution_count": 50,
     "metadata": {},
     "output_type": "execute_result"
    }
   ],
   "source": [
    "# numpy的ndarry形式可能是Fortran-style 也可能是C-style，这两种数组的行与列的表述方式是相反的，\n",
    "# 因为np.view（）是内存布局在数组上创建视图，导致输出dtype大小与内存中覆盖源数组的全长所需的字节数不完全匹配\n",
    "# 解决办法:创建数组时a1 = np.asarray(a1, order='C')\n",
    "# dtype属性的修改不可以直接进行，而应该借助于astype()方法\n",
    "x = np.array([[1, 1, 1], [1, 1, 1], [1, 1, 1]])\n",
    "print(x, x.dtype)\n",
    "# [[1 1 1]\n",
    "#  [1 1 1]\n",
    "#  [1 1 1]] int32\n",
    "# x.dtype = np.float64\n",
    "x.astype('float')"
   ]
  },
  {
   "cell_type": "code",
   "execution_count": 56,
   "metadata": {},
   "outputs": [
    {
     "name": "stdout",
     "output_type": "stream",
     "text": [
      "[0. 0. 0. 0. 0.]\n",
      "[[0. 0. 0.]\n",
      " [0. 0. 0.]]\n",
      "[[1 2 3]\n",
      " [4 5 6]]\n",
      "[[0 0 0]\n",
      " [0 0 0]]\n"
     ]
    }
   ],
   "source": [
    "##zeros\n",
    "# numpy.zeros(shape, dtype=float, order='C') 返回给定形状和类型的新数组，并用零填充。\n",
    "\n",
    "# numpy.zeros_like(a, dtype=None, order='K', subok=True, shape=None)\n",
    "# Return an array of zeros with the same shape and type as a given array.\n",
    "\n",
    "x = np.zeros(5)\n",
    "print(x)\n",
    "y = np.zeros([2, 3])\n",
    "print(y)\n",
    "\n",
    "z = np.array([[1, 2, 3],[4, 5, 6]])\n",
    "print(z)\n",
    "a = np.zeros_like(z)\n",
    "print(a)\n"
   ]
  },
  {
   "cell_type": "code",
   "execution_count": 88,
   "metadata": {},
   "outputs": [
    {
     "name": "stdout",
     "output_type": "stream",
     "text": [
      "[1. 1. 1. 1. 1.]\n",
      "[[1. 1. 1.]\n",
      " [1. 1. 1.]\n",
      " [1. 1. 1.]\n",
      " [1. 1. 1.]]\n",
      "[[1 2 3]\n",
      " [4 5 6]]\n",
      "[[1 1 1]\n",
      " [1 1 1]]\n"
     ]
    }
   ],
   "source": [
    "#ones  numpy.ones(shape, dtype=float, order='C') 返回给定形状和类型的新数组，并填充为1。\n",
    "# numpy.ones(shape, dtype=float, order='C') 返回给定形状和类型的新数组，并填充为1。\n",
    "# numpy.ones_like(a, dtype=None, order='K', subok=True, shape=None) \n",
    "# Return an array of ones with the same shape and type as a given array.\n",
    "\n",
    "x = np.ones(5)\n",
    "print(x)\n",
    "y = np.ones([4, 3])\n",
    "print(y)\n",
    "z = np.array([[1, 2, 3],[4, 5, 6]])\n",
    "print(z)\n",
    "b = np.ones_like(z)\n",
    "print(b)\n"
   ]
  },
  {
   "cell_type": "code",
   "execution_count": 105,
   "metadata": {},
   "outputs": [
    {
     "name": "stdout",
     "output_type": "stream",
     "text": [
      "[9.90263869e+067 8.01304531e+262 2.60799828e-310 1.03341195e-311]\n",
      "[[1.03389863e-311 6.27463370e-322 0.00000000e+000 0.00000000e+000]\n",
      " [1.11259940e-306 5.30276956e+180 1.57076922e-076 4.57664832e-071]\n",
      " [5.06479208e-086 3.35709490e-143 6.01433264e+175 6.93885958e+218]\n",
      " [5.56218858e+180 3.94356143e+180 4.79491204e-037 4.76095829e-038]\n",
      " [5.39366753e-066 9.50324206e-043 5.73635203e-143 1.50008929e+248]]\n",
      "[[1 2 3]\n",
      " [4 5 6]\n",
      " [7 8 9]\n",
      " [1 3 3]]\n",
      "[[1 2 3]\n",
      " [4 5 6]\n",
      " [7 8 9]\n",
      " [1 3 3]]\n"
     ]
    }
   ],
   "source": [
    "#empty\n",
    "# numpy.empty(shape, dtype=float, order='C') 返回一个空数组，数组元素为随机数。\n",
    "# numpy.empty_like(prototype, dtype=None, order='K', subok=True, shape=None) \n",
    "# Return a new array with the same shape and type as a given array.\n",
    "\n",
    "x = np.empty(4)\n",
    "print(x)\n",
    "\n",
    "y = np.empty([5,4])\n",
    "print(y)\n",
    "\n",
    "z = np.array([[1, 2, 3],[4, 5, 6],[7, 8, 9],[1, 3, 3]])\n",
    "print(z)\n",
    "\n",
    "c = np.empty_like(z)\n",
    "print(c)\n"
   ]
  },
  {
   "cell_type": "code",
   "execution_count": 112,
   "metadata": {},
   "outputs": [
    {
     "name": "stdout",
     "output_type": "stream",
     "text": [
      "[7 7 7 7 7]\n",
      "[[6 6 6 6 6]\n",
      " [6 6 6 6 6]\n",
      " [6 6 6 6 6]\n",
      " [6 6 6 6 6]\n",
      " [6 6 6 6 6]]\n",
      "[[7 7 7]\n",
      " [7 7 7]]\n"
     ]
    }
   ],
   "source": [
    "# numpy.full(shape, fill_value, dtype=None, order='C') 返回一个常数数组。\n",
    "# numpy.full_like(a, fill_value, dtype=None, order='K', subok=True, shape=None)\n",
    "# Return a full array with the same shape and type as a given array.\n",
    "\n",
    "x = np.full((5,),7)\n",
    "print(x)\n",
    "\n",
    "y = np.full((5, 5), 6)\n",
    "print(y)\n",
    "\n",
    "z = np.array([[1, 2, 3], [4, 5, 6]])\n",
    "d = np.full_like(z, 7)\n",
    "print(d)"
   ]
  },
  {
   "cell_type": "code",
   "execution_count": 119,
   "metadata": {},
   "outputs": [
    {
     "name": "stdout",
     "output_type": "stream",
     "text": [
      "[[1. 0. 0. 0. 0. 0.]\n",
      " [0. 1. 0. 0. 0. 0.]\n",
      " [0. 0. 1. 0. 0. 0.]\n",
      " [0. 0. 0. 1. 0. 0.]\n",
      " [0. 0. 0. 0. 1. 0.]\n",
      " [0. 0. 0. 0. 0. 1.]]\n",
      "[[1. 0. 0. 0.]\n",
      " [0. 1. 0. 0.]\n",
      " [0. 0. 1. 0.]]\n",
      "[[1. 0. 0. 0. 0. 0.]\n",
      " [0. 1. 0. 0. 0. 0.]\n",
      " [0. 0. 1. 0. 0. 0.]\n",
      " [0. 0. 0. 1. 0. 0.]\n",
      " [0. 0. 0. 0. 1. 0.]\n",
      " [0. 0. 0. 0. 0. 1.]]\n"
     ]
    }
   ],
   "source": [
    "# numpy.eye(N, M=None, k=0, dtype=) 返回一个二维数组，对角线上为1，其他地方为零。\n",
    "# numpy.identity(n, dtype=None)[source]\n",
    "# Return the identity array,The identity array is a square array with ones on the main diagonal.\n",
    "\n",
    "x = np.eye(6)\n",
    "print(x)\n",
    "\n",
    "x = np.eye(3, 4)\n",
    "print(x)\n",
    "\n",
    "x = np.identity(6)\n",
    "print(x)\n",
    "\n",
    "\n",
    "\n"
   ]
  },
  {
   "cell_type": "code",
   "execution_count": 129,
   "metadata": {},
   "outputs": [
    {
     "name": "stdout",
     "output_type": "stream",
     "text": [
      "[0 1 2 3 4]\n",
      "[2 4 6]\n",
      "[0.    0.625 1.25  1.875 2.5   3.125 3.75  4.375 5.   ]\n",
      "[0.23434089 0.40810845 0.81973424 0.38972914 0.93755877]\n",
      "[[0.19044867 0.15540893 0.55243688]\n",
      " [0.87707189 0.91785489 0.60974907]]\n"
     ]
    }
   ],
   "source": [
    "# numpy.arange([start, ]stop, [step, ]dtype=None) 返回给定间隔内的均匀间隔的值。\n",
    "\n",
    "# numpy.linspace(start, stop, num=50, endpoint=True, retstep=False, dtype=None) 返回指定间隔内的等间隔数字。\n",
    "\n",
    "# numpy.logspace(start, stop, num=50, endpoint=True, base=10.0, dtype=None, axis=0)返回数以对数刻度均匀分布。\n",
    "\n",
    "# numpy.random.random(size=None) 返回一个由[0,1)内的随机数组成的数组。\n",
    "\n",
    "a = np.arange(5)\n",
    "print(a)\n",
    "x = np.arange(2, 7, 2)\n",
    "print(x)\n",
    "\n",
    "x = np.linspace(start=0, stop=5, num=9)\n",
    "print(x)\n",
    "\n",
    "x = np.random.random(5)\n",
    "print(x)\n",
    "\n",
    "x = np.random.random([2, 3])\n",
    "print(x)\n"
   ]
  },
  {
   "cell_type": "code",
   "execution_count": 178,
   "metadata": {},
   "outputs": [
    {
     "name": "stdout",
     "output_type": "stream",
     "text": [
      "[0.   0.25 0.5  0.75 1.  ]\n",
      "[ 1.    1.78  3.16  5.62 10.  ]\n"
     ]
    }
   ],
   "source": [
    "x = np.linspace(0, 1, 5)\n",
    "print(x)\n",
    "\n",
    "# #logspace中，开始点和结束点是10的幂\n",
    "\n",
    "# x = np.logspace(0, 1, 5)\n",
    "# print(np.around(x, 2))\n",
    "\n",
    "x = [10 ** i for i in x]\n",
    "print(np.around(x, 2))\n"
   ]
  },
  {
   "cell_type": "code",
   "execution_count": 180,
   "metadata": {},
   "outputs": [
    {
     "name": "stdout",
     "output_type": "stream",
     "text": [
      "(5,)\n",
      "int32\n",
      "5\n",
      "1\n",
      "4\n",
      "(2, 3)\n",
      "float64\n",
      "6\n",
      "2\n",
      "8\n"
     ]
    }
   ],
   "source": [
    "# numpy.ndarray.ndim用于返回数组的维数（轴的个数）也称为秩，一维数组的秩为 1，二维数组的秩为 2，以此类推。\n",
    "\n",
    "# numpy.ndarray.shape表示数组的维度，返回一个元组，这个元组的长度就是维度的数目，即 ndim 属性(秩)。\n",
    "\n",
    "# numpy.ndarray.size数组中所有元素的总量，相当于数组的shape中所有元素的乘积，例如矩阵的元素总量为行与列的乘积。\n",
    "\n",
    "# numpy.ndarray.dtype ndarray 对象的元素类型。\n",
    "\n",
    "# numpy.ndarray.itemsize以字节的形式返回数组中每一个元素的大小。\n",
    "\n",
    "import numpy as np\n",
    "\n",
    "a = np.array([1, 2, 3, 4, 5])\n",
    "print(a.shape)  # (5,)\n",
    "print(a.dtype)  # int32\n",
    "print(a.size)  # 5\n",
    "print(a.ndim)  # 1\n",
    "print(a.itemsize)  # 4\n",
    "\n",
    "b = np.array([[1, 2, 3], [4, 5, 6.0]])\n",
    "print(b.shape)  # (2, 3)\n",
    "print(b.dtype)  # float64\n",
    "print(b.size)  # 6\n",
    "print(b.ndim)  # 2\n",
    "print(b.itemsize)  # 8"
   ]
  },
  {
   "cell_type": "code",
   "execution_count": 181,
   "metadata": {},
   "outputs": [
    {
     "name": "stdout",
     "output_type": "stream",
     "text": [
      "[1 2 3 4 5]\n",
      "['1' '2' '3' '4' '5']\n",
      "[1. 2. 3. 4. 5.]\n"
     ]
    }
   ],
   "source": [
    "# 在ndarray中所有元素必须是同一类型，否则会自动向下转换，int->float->str。\n",
    "\n",
    "a = np.array([1, 2, 3, 4, 5])\n",
    "print(a)  # [1 2 3 4 5]\n",
    "b = np.array([1, 2, 3, 4, '5'])\n",
    "print(b)  # ['1' '2' '3' '4' '5']\n",
    "c = np.array([1, 2, 3, 4, 5.0])\n",
    "print(c)  # [1. 2. 3. 4. 5.]\n"
   ]
  }
 ],
 "metadata": {
  "kernelspec": {
   "display_name": "tt",
   "language": "python",
   "name": "tt"
  },
  "language_info": {
   "codemirror_mode": {
    "name": "ipython",
    "version": 3
   },
   "file_extension": ".py",
   "mimetype": "text/x-python",
   "name": "python",
   "nbconvert_exporter": "python",
   "pygments_lexer": "ipython3",
   "version": "3.6.6"
  }
 },
 "nbformat": 4,
 "nbformat_minor": 2
}
