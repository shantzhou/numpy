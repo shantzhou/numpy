{
 "cells": [
  {
   "cell_type": "markdown",
   "metadata": {},
   "source": [
    "## 排序\n",
    "numpy.sort(a[, axis=-1, kind='quicksort', order=None]) Return a sorted copy of an array.\n",
    "\n",
    "axis：排序沿数组的（轴）方向，0表示按行，1表示按列，None表示展开来排序，默认为-1，表示沿最后的轴排序。\n",
    "\n",
    "kind：排序的算法，提供了快排'quicksort'、混排'mergesort'、堆排'heapsort'， 默认为‘quicksort'。\n",
    "\n",
    "order：排序的字段名，可指定字段排序，默认为None。"
   ]
  },
  {
   "cell_type": "code",
   "execution_count": 4,
   "metadata": {},
   "outputs": [
    {
     "name": "stdout",
     "output_type": "stream",
     "text": [
      "[[2.32 7.54 9.78 1.73 6.22]\n",
      " [6.93 5.17 9.28 9.76 8.25]\n",
      " [0.01 4.23 0.19 1.73 9.27]\n",
      " [7.99 4.97 0.88 7.32 4.29]\n",
      " [9.05 0.07 8.95 7.9  6.99]]\n"
     ]
    }
   ],
   "source": [
    "import numpy as np\n",
    "\n",
    "np.random.seed(20200612)\n",
    "x = np.random.rand(5,5) * 10\n",
    "x = np.around(x, 2)\n",
    "print(x)"
   ]
  },
  {
   "cell_type": "code",
   "execution_count": 5,
   "metadata": {},
   "outputs": [
    {
     "name": "stdout",
     "output_type": "stream",
     "text": [
      "[[1.73 2.32 6.22 7.54 9.78]\n",
      " [5.17 6.93 8.25 9.28 9.76]\n",
      " [0.01 0.19 1.73 4.23 9.27]\n",
      " [0.88 4.29 4.97 7.32 7.99]\n",
      " [0.07 6.99 7.9  8.95 9.05]]\n"
     ]
    }
   ],
   "source": [
    "y = np.sort(x)\n",
    "print(y)\n"
   ]
  },
  {
   "cell_type": "code",
   "execution_count": 7,
   "metadata": {},
   "outputs": [
    {
     "name": "stdout",
     "output_type": "stream",
     "text": [
      "[[0.01 0.07 0.19 1.73 4.29]\n",
      " [2.32 4.23 0.88 1.73 6.22]\n",
      " [6.93 4.97 8.95 7.32 6.99]\n",
      " [7.99 5.17 9.28 7.9  8.25]\n",
      " [9.05 7.54 9.78 9.76 9.27]]\n"
     ]
    }
   ],
   "source": [
    "y = np.sort(x, axis=0)\n",
    "print(y)\n"
   ]
  },
  {
   "cell_type": "code",
   "execution_count": 9,
   "metadata": {
    "scrolled": true
   },
   "outputs": [
    {
     "name": "stdout",
     "output_type": "stream",
     "text": [
      "[[1.73 2.32 6.22 7.54 9.78]\n",
      " [5.17 6.93 8.25 9.28 9.76]\n",
      " [0.01 0.19 1.73 4.23 9.27]\n",
      " [0.88 4.29 4.97 7.32 7.99]\n",
      " [0.07 6.99 7.9  8.95 9.05]]\n"
     ]
    }
   ],
   "source": [
    "y = np.sort(x, axis=1)\n",
    "print(y)"
   ]
  },
  {
   "cell_type": "code",
   "execution_count": 11,
   "metadata": {},
   "outputs": [
    {
     "name": "stdout",
     "output_type": "stream",
     "text": [
      "[(b'Bob', 17) (b'Jane', 27) (b'Mike', 21) (b'Nancy', 25)]\n",
      "[(b'Bob', 17) (b'Mike', 21) (b'Nancy', 25) (b'Jane', 27)]\n"
     ]
    }
   ],
   "source": [
    "dt = np.dtype([('name', 'S10'), ('age', np.int)])\n",
    "a = np.array([(\"Mike\", 21), (\"Nancy\", 25), (\"Bob\", 17), (\"Jane\", 27)], dtype=dt)\n",
    "b = np.sort(a, order='name')\n",
    "print(b)\n",
    "# [(b'Bob', 17) (b'Jane', 27) (b'Mike', 21) (b'Nancy', 25)]\n",
    "\n",
    "b = np.sort(a, order='age')\n",
    "print(b)\n",
    "# [(b'Bob', 17) (b'Mike', 21) (b'Nancy', 25) (b'Jane', 27)]"
   ]
  },
  {
   "cell_type": "markdown",
   "metadata": {},
   "source": [
    "如果排序后，想用元素的索引位置替代排序后的实际结果，该怎么办呢？\n",
    "\n",
    "numpy.argsort(a[, axis=-1, kind='quicksort', order=None]) Returns the indices that would sort an array.\n",
    "\n",
    "【例】对数组沿给定轴执行间接排序，并使用指定排序类型返回数据的索引数组。这个索引数组用于构造排序后的数组。\n"
   ]
  },
  {
   "cell_type": "code",
   "execution_count": 13,
   "metadata": {},
   "outputs": [
    {
     "name": "stdout",
     "output_type": "stream",
     "text": [
      "[6 1 8 5 5 4 1 2 9 1]\n",
      "[1 6 9 7 5 3 4 0 2 8]\n",
      "[1 1 1 2 4 5 5 6 8 9]\n",
      "[8 2 0 3 4 5 7 1 6 9]\n",
      "[9 8 6 5 5 4 2 1 1 1]\n"
     ]
    }
   ],
   "source": [
    "np.random.seed(20200612)\n",
    "x = np.random.randint(0, 10, 10)\n",
    "print(x)\n",
    "# [6 1 8 5 5 4 1 2 9 1]\n",
    "\n",
    "y = np.argsort(x)\n",
    "print(y)\n",
    "# [1 6 9 7 5 3 4 0 2 8]\n",
    "\n",
    "print(x[y])\n",
    "# [1 1 1 2 4 5 5 6 8 9]\n",
    "\n",
    "y = np.argsort(-x)\n",
    "print(y)\n",
    "# [8 2 0 3 4 5 7 1 6 9]\n",
    "\n",
    "print(x[y])\n",
    "# [9 8 6 5 5 4 2 1 1 1]"
   ]
  },
  {
   "cell_type": "code",
   "execution_count": 15,
   "metadata": {},
   "outputs": [
    {
     "name": "stdout",
     "output_type": "stream",
     "text": [
      "[[2.32 7.54 9.78 1.73 6.22]\n",
      " [6.93 5.17 9.28 9.76 8.25]\n",
      " [0.01 4.23 0.19 1.73 9.27]\n",
      " [7.99 4.97 0.88 7.32 4.29]\n",
      " [9.05 0.07 8.95 7.9  6.99]]\n",
      "[[3 0 4 1 2]\n",
      " [1 0 4 2 3]\n",
      " [0 2 3 1 4]\n",
      " [2 4 1 3 0]\n",
      " [1 4 3 2 0]]\n",
      "[[2 4 2 0 3]\n",
      " [0 2 3 2 0]\n",
      " [1 3 4 3 4]\n",
      " [3 1 1 4 1]\n",
      " [4 0 0 1 2]]\n",
      "[[3 0 4 1 2]\n",
      " [1 0 4 2 3]\n",
      " [0 2 3 1 4]\n",
      " [2 4 1 3 0]\n",
      " [1 4 3 2 0]]\n",
      "[[1.73 2.32 6.22 7.54 9.78]\n",
      " [5.17 6.93 8.25 9.28 9.76]\n",
      " [0.01 0.19 1.73 4.23 9.27]\n",
      " [0.88 4.29 4.97 7.32 7.99]\n",
      " [0.07 6.99 7.9  8.95 9.05]]\n"
     ]
    }
   ],
   "source": [
    "np.random.seed(20200612)\n",
    "x = np.random.rand(5, 5) * 10\n",
    "x = np.around(x, 2)\n",
    "print(x)\n",
    "# [[2.32 7.54 9.78 1.73 6.22]\n",
    "#  [6.93 5.17 9.28 9.76 8.25]\n",
    "#  [0.01 4.23 0.19 1.73 9.27]\n",
    "#  [7.99 4.97 0.88 7.32 4.29]\n",
    "#  [9.05 0.07 8.95 7.9  6.99]]\n",
    "\n",
    "y = np.argsort(x)\n",
    "print(y)\n",
    "# [[3 0 4 1 2]\n",
    "#  [1 0 4 2 3]\n",
    "#  [0 2 3 1 4]\n",
    "#  [2 4 1 3 0]\n",
    "#  [1 4 3 2 0]]\n",
    "\n",
    "y = np.argsort(x, axis=0)\n",
    "print(y)\n",
    "# [[2 4 2 0 3]\n",
    "#  [0 2 3 2 0]\n",
    "#  [1 3 4 3 4]\n",
    "#  [3 1 1 4 1]\n",
    "#  [4 0 0 1 2]]\n",
    "\n",
    "\n",
    "y = np.argsort(x, axis=1)\n",
    "print(y)\n",
    "# [[3 0 4 1 2]\n",
    "#  [1 0 4 2 3]\n",
    "#  [0 2 3 1 4]\n",
    "#  [2 4 1 3 0]\n",
    "#  [1 4 3 2 0]]\n",
    "\n",
    "y = np.array([np.take(x[i], np.argsort(x[i])) for i in range(5)])\n",
    "print(y)\n",
    "# [[1.73 2.32 6.22 7.54 9.78]\n",
    "#  [5.17 6.93 8.25 9.28 9.76]\n",
    "#  [0.01 0.19 1.73 4.23 9.27]\n",
    "#  [0.88 4.29 4.97 7.32 7.99]\n",
    "#  [0.07 6.99 7.9  8.95 9.05]]"
   ]
  },
  {
   "cell_type": "markdown",
   "metadata": {},
   "source": [
    "如何将数据按照某一指标进行排序呢？\n",
    "\n",
    "numpy.lexsort(keys[, axis=-1]) Perform an indirect stable sort using a sequence of keys.\n",
    "\n",
    "【例】按照第一列的升序或者降序对整体数据进行排序。"
   ]
  },
  {
   "cell_type": "code",
   "execution_count": 17,
   "metadata": {},
   "outputs": [
    {
     "name": "stdout",
     "output_type": "stream",
     "text": [
      "[[2.32 7.54 9.78 1.73 6.22]\n",
      " [6.93 5.17 9.28 9.76 8.25]\n",
      " [0.01 4.23 0.19 1.73 9.27]\n",
      " [7.99 4.97 0.88 7.32 4.29]\n",
      " [9.05 0.07 8.95 7.9  6.99]]\n",
      "[2 0 1 3 4]\n",
      "[[0.01 4.23 0.19 1.73 9.27]\n",
      " [2.32 7.54 9.78 1.73 6.22]\n",
      " [6.93 5.17 9.28 9.76 8.25]\n",
      " [7.99 4.97 0.88 7.32 4.29]\n",
      " [9.05 0.07 8.95 7.9  6.99]]\n",
      "[4 3 1 0 2]\n",
      "[[9.05 0.07 8.95 7.9  6.99]\n",
      " [7.99 4.97 0.88 7.32 4.29]\n",
      " [6.93 5.17 9.28 9.76 8.25]\n",
      " [2.32 7.54 9.78 1.73 6.22]\n",
      " [0.01 4.23 0.19 1.73 9.27]]\n"
     ]
    }
   ],
   "source": [
    "import numpy as np\n",
    "\n",
    "np.random.seed(20200612)\n",
    "x = np.random.rand(5, 5) * 10\n",
    "x = np.around(x, 2)\n",
    "print(x)\n",
    "# [[2.32 7.54 9.78 1.73 6.22]\n",
    "#  [6.93 5.17 9.28 9.76 8.25]\n",
    "#  [0.01 4.23 0.19 1.73 9.27]\n",
    "#  [7.99 4.97 0.88 7.32 4.29]\n",
    "#  [9.05 0.07 8.95 7.9  6.99]]\n",
    "\n",
    "index = np.lexsort([x[:, 0]])\n",
    "print(index)\n",
    "# [2 0 1 3 4]\n",
    "\n",
    "y = x[index]\n",
    "print(y)\n",
    "# [[0.01 4.23 0.19 1.73 9.27]\n",
    "#  [2.32 7.54 9.78 1.73 6.22]\n",
    "#  [6.93 5.17 9.28 9.76 8.25]\n",
    "#  [7.99 4.97 0.88 7.32 4.29]\n",
    "#  [9.05 0.07 8.95 7.9  6.99]]\n",
    "\n",
    "index = np.lexsort([-1 * x[:, 0]])\n",
    "print(index)\n",
    "# [4 3 1 0 2]\n",
    "\n",
    "y = x[index]\n",
    "print(y)\n",
    "# [[9.05 0.07 8.95 7.9  6.99]\n",
    "#  [7.99 4.97 0.88 7.32 4.29]\n",
    "#  [6.93 5.17 9.28 9.76 8.25]\n",
    "#  [2.32 7.54 9.78 1.73 6.22]\n",
    "#  [0.01 4.23 0.19 1.73 9.27]]"
   ]
  },
  {
   "cell_type": "markdown",
   "metadata": {},
   "source": [
    "## 搜索\n",
    "\n",
    "numpy.argmax(a[, axis=None, out=None])Returns the indices of the maximum values along an axis."
   ]
  },
  {
   "cell_type": "code",
   "execution_count": 18,
   "metadata": {},
   "outputs": [
    {
     "name": "stdout",
     "output_type": "stream",
     "text": [
      "[[2.32 7.54 9.78 1.73 6.22]\n",
      " [6.93 5.17 9.28 9.76 8.25]\n",
      " [0.01 4.23 0.19 1.73 9.27]\n",
      " [7.99 4.97 0.88 7.32 4.29]\n",
      " [9.05 0.07 8.95 7.9  6.99]]\n",
      "2\n",
      "[4 0 0 1 2]\n",
      "[2 3 4 0 0]\n"
     ]
    }
   ],
   "source": [
    "import numpy as np\n",
    "\n",
    "np.random.seed(20200612)\n",
    "x = np.random.rand(5, 5) * 10\n",
    "x = np.around(x, 2)\n",
    "print(x)\n",
    "# [[2.32 7.54 9.78 1.73 6.22]\n",
    "#  [6.93 5.17 9.28 9.76 8.25]\n",
    "#  [0.01 4.23 0.19 1.73 9.27]\n",
    "#  [7.99 4.97 0.88 7.32 4.29]\n",
    "#  [9.05 0.07 8.95 7.9  6.99]]\n",
    "\n",
    "y = np.argmax(x)\n",
    "print(y)  # 2\n",
    "\n",
    "y = np.argmax(x, axis=0)\n",
    "print(y)\n",
    "# [4 0 0 1 2]\n",
    "\n",
    "y = np.argmax(x, axis=1)\n",
    "print(y)\n",
    "# [2 3 4 0 0]\n"
   ]
  },
  {
   "cell_type": "markdown",
   "metadata": {},
   "source": [
    "numpy.argmin(a[, axis=None, out=None])Returns the indices of the minimum values along an axis.\n"
   ]
  },
  {
   "cell_type": "code",
   "execution_count": 20,
   "metadata": {},
   "outputs": [
    {
     "name": "stdout",
     "output_type": "stream",
     "text": [
      "[[2.32 7.54 9.78 1.73 6.22]\n",
      " [6.93 5.17 9.28 9.76 8.25]\n",
      " [0.01 4.23 0.19 1.73 9.27]\n",
      " [7.99 4.97 0.88 7.32 4.29]\n",
      " [9.05 0.07 8.95 7.9  6.99]]\n",
      "10\n",
      "[2 4 2 0 3]\n",
      "[3 1 0 2 1]\n"
     ]
    }
   ],
   "source": [
    "np.random.seed(20200612)\n",
    "x = np.random.rand(5, 5) * 10\n",
    "x = np.around(x, 2)\n",
    "print(x)\n",
    "# [[2.32 7.54 9.78 1.73 6.22]\n",
    "#  [6.93 5.17 9.28 9.76 8.25]\n",
    "#  [0.01 4.23 0.19 1.73 9.27]\n",
    "#  [7.99 4.97 0.88 7.32 4.29]\n",
    "#  [9.05 0.07 8.95 7.9  6.99]]\n",
    "\n",
    "y = np.argmin(x)\n",
    "print(y)  # 10\n",
    "\n",
    "y = np.argmin(x, axis=0)\n",
    "print(y)\n",
    "# [2 4 2 0 3]\n",
    "\n",
    "y = np.argmin(x, axis=1)\n",
    "print(y)\n",
    "# [3 1 0 2 1]"
   ]
  },
  {
   "cell_type": "markdown",
   "metadata": {},
   "source": [
    "numpy.where(condition, [x=None, y=None]) 函数返回输入数组中满足给定条件的元素的索引。"
   ]
  },
  {
   "cell_type": "code",
   "execution_count": 23,
   "metadata": {},
   "outputs": [
    {
     "name": "stdout",
     "output_type": "stream",
     "text": [
      "(array([5, 6, 7], dtype=int64),)\n",
      "[6 7 8]\n",
      "(array([3, 3, 3, 3, 3, 4, 4, 4, 4, 4], dtype=int64), array([0, 1, 2, 3, 4, 0, 1, 2, 3, 4], dtype=int64))\n",
      "[26 27 28 29 30 31 32 33 34 35]\n"
     ]
    }
   ],
   "source": [
    "x = np.array([1, 2, 3, 4, 5, 6, 7, 8])\n",
    "y = np.where(x > 5)\n",
    "print(y)\n",
    "# (array([5, 6, 7], dtype=int64),)\n",
    "print(x[y])\n",
    "# [6 7 8]\n",
    "\n",
    "x = np.array([[11, 12, 13, 14, 15],\n",
    "              [16, 17, 18, 19, 20],\n",
    "              [21, 22, 23, 24, 25],\n",
    "              [26, 27, 28, 29, 30],\n",
    "              [31, 32, 33, 34, 35]])\n",
    "y = np.where(x > 25)\n",
    "print(y)\n",
    "# (array([3, 3, 3, 3, 3, 4, 4, 4, 4, 4], dtype=int64), array([0, 1, 2, 3, 4, 0, 1, 2, 3, 4], dtype=int64))\n",
    "\n",
    "print(x[y])\n",
    "# [26 27 28 29 30 31 32 33 34 35]"
   ]
  },
  {
   "cell_type": "markdown",
   "metadata": {},
   "source": [
    "numpy.searchsorted(a, v[, side='left', sorter=None]) Find indices where elements should be inserted to maintain order.\n",
    "a：一维输入数组。当sorter参数为None的时候，a必须为升序数组；否则，sorter不能为空，存放a中元素的index，用于反映a数组的升序排列方式。\n",
    "\n",
    "v：插入a数组的值，可以为单个元素，list或者ndarray。\n",
    "\n",
    "side：查询方向，当为left时，将返回第一个符合条件的元素下标；当为right时，将返回最后一个符合条件的元素下标。\n",
    "\n",
    "sorter：一维数组存放a数组元素的 index，index 对应元素为升序。"
   ]
  },
  {
   "cell_type": "code",
   "execution_count": 25,
   "metadata": {},
   "outputs": [
    {
     "name": "stdout",
     "output_type": "stream",
     "text": [
      "5\n",
      "5\n",
      "0\n",
      "0\n",
      "8\n",
      "8\n",
      "4\n",
      "5\n",
      "0\n",
      "1\n",
      "7\n",
      "8\n"
     ]
    }
   ],
   "source": [
    "x = np.array([0, 1, 5, 9, 11, 18, 26, 33])\n",
    "y = np.searchsorted(x, 15)\n",
    "print(y)  # 5\n",
    "\n",
    "y = np.searchsorted(x, 15, side='right')\n",
    "print(y)  # 5\n",
    "\n",
    "y = np.searchsorted(x, -1)\n",
    "print(y)  # 0\n",
    "\n",
    "y = np.searchsorted(x, -1, side='right')\n",
    "print(y)  # 0\n",
    "\n",
    "y = np.searchsorted(x, 35)\n",
    "print(y)  # 8\n",
    "\n",
    "y = np.searchsorted(x, 35, side='right')\n",
    "print(y)  # 8\n",
    "\n",
    "y = np.searchsorted(x, 11)\n",
    "print(y)  # 4\n",
    "\n",
    "y = np.searchsorted(x, 11, side='right')\n",
    "print(y)  # 5\n",
    "\n",
    "y = np.searchsorted(x, 0)\n",
    "print(y)  # 0\n",
    "\n",
    "y = np.searchsorted(x, 0, side='right')\n",
    "print(y)  # 1\n",
    "\n",
    "y = np.searchsorted(x, 33)\n",
    "print(y)  # 7\n",
    "\n",
    "y = np.searchsorted(x, 33, side='right')\n",
    "print(y)  # 8"
   ]
  },
  {
   "cell_type": "code",
   "execution_count": 27,
   "metadata": {},
   "outputs": [
    {
     "name": "stdout",
     "output_type": "stream",
     "text": [
      "[0 0 4 5 7 8]\n",
      "[0 1 5 5 8 8]\n"
     ]
    }
   ],
   "source": [
    "import numpy as np\n",
    "\n",
    "x = np.array([0, 1, 5, 9, 11, 18, 26, 33])\n",
    "y = np.searchsorted(x, [-1, 0, 11, 15, 33, 35])\n",
    "print(y)  # [0 0 4 5 7 8]\n",
    "\n",
    "y = np.searchsorted(x, [-1, 0, 11, 15, 33, 35], side='right')\n",
    "print(y)  # [0 1 5 5 8 8]"
   ]
  },
  {
   "cell_type": "markdown",
   "metadata": {},
   "source": [
    "## 计数\n",
    "numpy.count_nonzero(a, axis=None) Counts the number of non-zero values in the array a.\n",
    "\n",
    "【例】返回数组中的非0元素个数。"
   ]
  },
  {
   "cell_type": "code",
   "execution_count": null,
   "metadata": {},
   "outputs": [],
   "source": [
    "import numpy as np\n",
    "\n",
    "x = np.count_nonzero(np.eye(4))\n",
    "# np.eye()的函数，除了生成对角阵外，还可以将一个label数组，\n",
    "# 大小为(1,m)或者(m,1)的数组，转化成one-hot数组。\n",
    "print(x)  # 4\n",
    "\n",
    "x = np.count_nonzero([[0, 1, 7, 0, 0], [3, 0, 0, 2, 19]])\n",
    "print(x)  # 5\n",
    "\n",
    "x = np.count_nonzero([[0, 1, 7, 0, 0], [3, 0, 0, 2, 19]], axis=0)\n",
    "print(x)  # [1 1 1 1 1]\n",
    "\n",
    "x = np.count_nonzero([[0, 1, 7, 0, 0], [3, 0, 0, 2, 19]], axis=1)\n",
    "print(x)  # [2 3]"
   ]
  }
 ],
 "metadata": {
  "kernelspec": {
   "display_name": "Python 3",
   "language": "python",
   "name": "python3"
  },
  "language_info": {
   "codemirror_mode": {
    "name": "ipython",
    "version": 3
   },
   "file_extension": ".py",
   "mimetype": "text/x-python",
   "name": "python",
   "nbconvert_exporter": "python",
   "pygments_lexer": "ipython3",
   "version": "3.6.5"
  }
 },
 "nbformat": 4,
 "nbformat_minor": 2
}
