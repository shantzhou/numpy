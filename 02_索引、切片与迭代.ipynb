{
 "cells": [
  {
   "cell_type": "code",
   "execution_count": 1,
   "metadata": {},
   "outputs": [],
   "source": [
    "import numpy as np"
   ]
  },
  {
   "cell_type": "code",
   "execution_count": 16,
   "metadata": {},
   "outputs": [
    {
     "name": "stdout",
     "output_type": "stream",
     "text": [
      "[-1  2  3  4  5  6  7  8]\n",
      "[-1  2  3  4  5  6  7  8]\n",
      "[1 2 3 4 5 6 7 8]\n",
      "[-1  2  3  4  5  6  7  8]\n"
     ]
    }
   ],
   "source": [
    "# 在 Numpy 中，所有赋值运算不会为数组和数组中的任何元素创建副本。\n",
    "\n",
    "# numpy.ndarray.copy() 函数创建一个副本。对副本数据进行修改，不会影响到原始数据，它们物理内存不在同一位置。\n",
    "\n",
    "x = np.array([1, 2, 3, 4, 5, 6, 7, 8])\n",
    "y = x\n",
    "y[0] = -1\n",
    "print(x)\n",
    "print(y)\n",
    "\n",
    "\n",
    "x = np.array([1, 2, 3, 4, 5, 6, 7, 8])\n",
    "y = np.copy(x)\n",
    "y[0]= -1\n",
    "print(x)\n",
    "print(y)\n"
   ]
  },
  {
   "cell_type": "code",
   "execution_count": 65,
   "metadata": {},
   "outputs": [
    {
     "name": "stdout",
     "output_type": "stream",
     "text": [
      "[[-1 12 -1 14 15]\n",
      " [16 17 18 19 20]\n",
      " [-1 22 -1 24 25]\n",
      " [26 27 28 29 30]\n",
      " [-1 32 -1 34 35]]\n",
      "****\n",
      "[[-1 12 -1 14 15]\n",
      " [16 17 18 19 20]\n",
      " [-1 22 -1 24 25]\n",
      " [26 27 28 29 30]\n",
      " [-1 32 -1 34 35]]\n",
      "****\n",
      "[[11 12 13 14 15]\n",
      " [16 17 18 19 20]\n",
      " [21 22 23 24 25]\n",
      " [26 27 28 29 30]\n",
      " [31 32 33 34 35]]\n",
      "****\n",
      "[[-2 12 -2 14 15]\n",
      " [16 17 18 19 20]\n",
      " [-2 22 -2 24 25]\n",
      " [26 27 28 29 30]\n",
      " [-2 32 -2 34 35]]\n"
     ]
    }
   ],
   "source": [
    "# 数组切片操作返回的对象只是原数组的视图。\n",
    "\n",
    "x = np.array([[11, 12, 13, 14, 15],\n",
    "              [16, 17, 18, 19, 20],\n",
    "              [21, 22, 23, 24, 25],\n",
    "              [26, 27, 28, 29, 30],\n",
    "              [31, 32, 33, 34, 35]])\n",
    "\n",
    "y = x \n",
    "y[::2,:3:2] = -1\n",
    "print(x)\n",
    "print('****')\n",
    "print(y)\n",
    "\n",
    "\n",
    "\n",
    "x = np.array([[11, 12, 13, 14, 15],\n",
    "              [16, 17, 18, 19, 20],\n",
    "              [21, 22, 23, 24, 25],\n",
    "              [26, 27, 28, 29, 30],\n",
    "              [31, 32, 33, 34, 35]])\n",
    "y = x.copy()\n",
    "y[::2, :3:2] = -2\n",
    "print('****')\n",
    "print(x)\n",
    "print('****')\n",
    "print(y)\n"
   ]
  },
  {
   "cell_type": "code",
   "execution_count": 6,
   "metadata": {},
   "outputs": [
    {
     "name": "stdout",
     "output_type": "stream",
     "text": [
      "3\n",
      "[21 22 23 24 25]\n",
      "22\n",
      "22\n"
     ]
    }
   ],
   "source": [
    "#索引和切片 \n",
    "# 数组索引机制指的是用方括号（[]）加序号的形式引用单个数组元素，它的用处很多，\n",
    "# 比如抽取元素，选取数组的几个元素，甚至为其赋一个新值。\n",
    "\n",
    "# 【例】要获取数组的单个元素，指定元素的索引即可。\n",
    "\n",
    "\n",
    "\n",
    "x = np.array([1, 2, 3, 4, 5, 6, 7, 8])\n",
    "print(x[2])  \n",
    "x = np.array([[11, 12, 13, 14, 15],\n",
    "              [16, 17, 18, 19, 20],\n",
    "              [21, 22, 23, 24, 25],\n",
    "              [26, 27, 28, 29, 30],\n",
    "              [31, 32, 33, 34, 35]])\n",
    "print(x[2])  \n",
    "print(x[2][1])  \n",
    "print(x[2, 1])\n"
   ]
  },
  {
   "cell_type": "code",
   "execution_count": 16,
   "metadata": {},
   "outputs": [
    {
     "name": "stdout",
     "output_type": "stream",
     "text": [
      "[1 2]\n",
      "[2 4]\n",
      "[3 4 5 6 7 8]\n",
      "[1 2]\n",
      "[7 8]\n",
      "[1 2 3 4 5 6]\n",
      "[1 2 3 4 5 6 7 8]\n"
     ]
    }
   ],
   "source": [
    "# 切片索引\n",
    "\n",
    "# 切片操作是指抽取数组的一部分元素生成新数组。对 python 列表进行切片操作得到的数组是原数组的副本，\n",
    "# 而对 Numpy 数据进行切片操作得到的数组则是指向相同缓冲区的视图。\n",
    "\n",
    "# 如果想抽取（或查看）数组的一部分，必须使用切片语法，\n",
    "# 也就是，把几个用冒号（ start:stop:step ）隔开的数字置于方括号内。\n",
    "\n",
    "# 为了更好地理解切片语法，还应该了解不明确指明起始和结束位置的情况。\n",
    "# 如省去第一个数字，numpy 会认为第一个数字是0；\n",
    "# 如省去第二个数字，numpy 则会认为第二个数字是数组的最大索引值；\n",
    "# 如省去最后一个数字，它将会被理解为1，也就是抽取所有元素而不再考虑间隔。\n",
    "\n",
    "x = np.array([1, 2, 3, 4, 5, 6, 7, 8])\n",
    "print(x[0:2])\n",
    "print(x[1:5:2])\n",
    "print(x[2:])\n",
    "print(x[:2])\n",
    "print(x[-2:])\n",
    "print(x[:-2])\n",
    "print(x[:])\n"
   ]
  },
  {
   "cell_type": "code",
   "execution_count": 43,
   "metadata": {},
   "outputs": [
    {
     "name": "stdout",
     "output_type": "stream",
     "text": [
      "[[11 12 13 14 15]\n",
      " [16 17 18 19 20]]\n",
      "[[16 17 18 19 20]\n",
      " [26 27 28 29 30]]\n",
      "[[21 22 23 24 25]\n",
      " [26 27 28 29 30]\n",
      " [31 32 33 34 35]]\n",
      "[[11 12 13 14 15]\n",
      " [16 17 18 19 20]]\n",
      "[[26 27 28 29 30]\n",
      " [31 32 33 34 35]]\n",
      "[[11 12 13 14 15]\n",
      " [16 17 18 19 20]\n",
      " [21 22 23 24 25]]\n",
      "[[11 12 13 14 15]\n",
      " [16 17 18 19 20]\n",
      " [21 22 23 24 25]\n",
      " [26 27 28 29 30]\n",
      " [31 32 33 34 35]]\n",
      "******\n",
      "[21 22 23 24 25]\n",
      "[13 18 23 28 33]\n",
      "[12 13 14]\n",
      "[16 21 26]\n",
      "[[18 19]\n",
      " [23 24]]\n",
      "[[11 12 13 14 15]\n",
      " [16 17 18 19 20]\n",
      " [21 22 23 24 25]\n",
      " [26 27 28 29 30]\n",
      " [31 32 33 34 35]]\n",
      "[[11 13 15]\n",
      " [21 23 25]\n",
      " [31 33 35]]\n"
     ]
    }
   ],
   "source": [
    "x = np.array([[11, 12, 13, 14, 15],\n",
    "              [16, 17, 18, 19, 20],\n",
    "              [21, 22, 23, 24, 25],\n",
    "              [26, 27, 28, 29, 30],\n",
    "              [31, 32, 33, 34, 35]])\n",
    "print(x[0:2])\n",
    "print(x[1:5:2])\n",
    "print(x[2:])\n",
    "print(x[:2])\n",
    "print(x[-2:])\n",
    "print(x[:-2])\n",
    "print(x[:])\n",
    "print('******')\n",
    "print(x[2, :]) \n",
    "print(x[:, 2])\n",
    "print(x[0, 1:4])\n",
    "print(x[1:4, 0])\n",
    "print(x[1:3, 2:4])\n",
    "\n",
    "print(x[:, :])\n",
    "print(x[::2, ::2])#步长为2"
   ]
  },
  {
   "cell_type": "code",
   "execution_count": 44,
   "metadata": {},
   "outputs": [],
   "source": [
    "# 通过对每个以逗号分隔的维度执行单独的切片，你可以对多维数组进行切片。\n",
    "# 因此，对于二维数组，我们的第一片定义了行的切片，第二片定义了列的切片。"
   ]
  },
  {
   "cell_type": "code",
   "execution_count": 47,
   "metadata": {},
   "outputs": [
    {
     "name": "stdout",
     "output_type": "stream",
     "text": [
      "[[11  0 13 14  0]\n",
      " [16 17 18 19 20]\n",
      " [21  0 23 24  0]\n",
      " [26 27 28 29 30]\n",
      " [31  0 33 34  0]]\n"
     ]
    }
   ],
   "source": [
    "x[0::2, 1::3] = 0\n",
    "print(x)"
   ]
  },
  {
   "cell_type": "code",
   "execution_count": 48,
   "metadata": {},
   "outputs": [],
   "source": [
    "# dots 索引\n",
    "\n",
    "# NumPy 允许使用...表示足够多的冒号来构建完整的索引列表。\n",
    "\n",
    "# 比如，如果 x 是 5 维数组：\n",
    "\n",
    "# x[1,2,…] 等于 x[1,2,:,:,:]\n",
    "\n",
    "# x[…,3] 等于 x[:,:,:,:,3]\n",
    "\n",
    "# x[4,…,5,:] 等于 x[4,:,:,5,:]"
   ]
  },
  {
   "cell_type": "code",
   "execution_count": 53,
   "metadata": {},
   "outputs": [
    {
     "name": "stdout",
     "output_type": "stream",
     "text": [
      "[[[28 75 76]\n",
      "  [70 60 60]]\n",
      "\n",
      " [[62 16 21]\n",
      "  [41 51 65]]]\n",
      "(2, 2, 3)\n",
      "[[62 16 21]\n",
      " [41 51 65]]\n",
      "[[76 60]\n",
      " [21 65]]\n"
     ]
    }
   ],
   "source": [
    "x = np.random.randint(1, 100, [2, 2, 3])\n",
    "print(x)\n",
    "print(x.shape)\n",
    "print(x[1, ...])\n",
    "print(x[..., 2])"
   ]
  },
  {
   "cell_type": "code",
   "execution_count": 69,
   "metadata": {},
   "outputs": [
    {
     "name": "stdout",
     "output_type": "stream",
     "text": [
      "[1 2 3]\n",
      "[1 2 8]\n",
      "222\n",
      "[[16 17 18 19 20]\n",
      " [21 22 23 24 25]\n",
      " [21 22 23 24 25]]\n",
      "[[11 12 13 14 15]\n",
      " [16 17 18 19 20]\n",
      " [31 32 33 34 35]]\n",
      "[[21 22 23 24 25]\n",
      " [26 27 28 29 30]\n",
      " [31 32 33 34 35]]\n",
      "[13 19 25]\n",
      "[13 19 25]\n",
      "(3,)\n"
     ]
    }
   ],
   "source": [
    "# 整数数组索引\n",
    "# 方括号内传入多个索引值，可以同时选择多个元素。\n",
    "x = np.array([1, 2, 3, 4, 5, 6, 7, 8])\n",
    "r = [0, 1, 2]\n",
    "print(x[r])\n",
    "r = [0, 1, -1]\n",
    "print(x[r])\n",
    "\n",
    "x = np.array([[11, 12, 13, 14, 15],\n",
    "              [16, 17, 18, 19, 20],\n",
    "              [21, 22, 23, 24, 25],\n",
    "              [26, 27, 28, 29, 30],\n",
    "              [31, 32, 33, 34, 35]])\n",
    "\n",
    "r = [1, 2, 2]\n",
    "print(x[r])\n",
    "\n",
    "\n",
    "r = [0, 1, -1]\n",
    "print(x[r])\n",
    "\n",
    "r = [0, 1, 2]\n",
    "c = [2, 3, 4]\n",
    "print(x[c])\n",
    "print(x[r,c])\n",
    "y = x[r, c]\n",
    "print(y)\n",
    "print(y.shape)"
   ]
  },
  {
   "cell_type": "code",
   "execution_count": 66,
   "metadata": {},
   "outputs": [
    {
     "name": "stdout",
     "output_type": "stream",
     "text": [
      "[[1 2]\n",
      " [4 5]]\n",
      "[[[11 12 13 14 15]\n",
      "  [16 17 18 19 20]]\n",
      "\n",
      " [[26 27 28 29 30]\n",
      "  [31 32 33 34 35]]]\n",
      "[[11 15]\n",
      " [31 35]]\n"
     ]
    }
   ],
   "source": [
    "x = np.array([1, 2, 3, 4, 5, 6, 7, 8])\n",
    "r = np.array([[0, 1], [3, 4]])\n",
    "print(x[r])\n",
    "\n",
    "\n",
    "x = np.array([[11, 12, 13, 14, 15],\n",
    "              [16, 17, 18, 19, 20],\n",
    "              [21, 22, 23, 24, 25],\n",
    "              [26, 27, 28, 29, 30],\n",
    "              [31, 32, 33, 34, 35]])\n",
    "\n",
    "r = np.array([[0, 1], [3, 4]])\n",
    "print(x[r])\n",
    "\n",
    "\n",
    "# 获取了 5X5 数组中的四个角的元素。\n",
    "# 行索引是 [0,0] 和 [4,4]，而列索引是 [0,4] 和 [0,4]。\n",
    "r = np.array([[0, 0], [4, 4]])\n",
    "c = np.array([[0, 4], [0, 4]])\n",
    "y = x[r, c]\n",
    "print(y)"
   ]
  },
  {
   "cell_type": "code",
   "execution_count": 71,
   "metadata": {},
   "outputs": [
    {
     "name": "stdout",
     "output_type": "stream",
     "text": [
      "[[12 13 13]\n",
      " [17 18 18]\n",
      " [22 23 23]]\n"
     ]
    }
   ],
   "source": [
    "# 可以借助切片:与整数数组组合。\n",
    "x = np.array([[11, 12, 13, 14, 15],\n",
    "              [16, 17, 18, 19, 20],\n",
    "              [21, 22, 23, 24, 25],\n",
    "              [26, 27, 28, 29, 30],\n",
    "              [31, 32, 33, 34, 35]])\n",
    "\n",
    "y = x[0:3, [1, 2, 2]]\n",
    "print(y)"
   ]
  },
  {
   "cell_type": "code",
   "execution_count": 76,
   "metadata": {},
   "outputs": [
    {
     "name": "stdout",
     "output_type": "stream",
     "text": [
      "[False False False False False  True  True  True]\n",
      "[1. 2. 3. 4. 5.]\n",
      "[[False False False False False]\n",
      " [False False False False False]\n",
      " [False False False False False]\n",
      " [ True  True  True  True  True]\n",
      " [ True  True  True  True  True]]\n",
      "[26 27 28 29 30 31 32 33 34 35]\n"
     ]
    }
   ],
   "source": [
    "# 布尔索引\n",
    "\n",
    "# 我们可以通过一个布尔数组来索引目标数组\n",
    "\n",
    "x = np.array([1, 2, 3, 4, 5, 6, 7, 8])\n",
    "y = x > 5\n",
    "print(y)\n",
    "\n",
    "x = np.array([np.nan, 1, 2, np.nan, 3, 4, 5])\n",
    "y = np.logical_not(np.isnan(x))\n",
    "print(x[y])\n",
    "\n",
    "x = np.array([[11, 12, 13, 14, 15],\n",
    "              [16, 17, 18, 19, 20],\n",
    "              [21, 22, 23, 24, 25],\n",
    "              [26, 27, 28, 29, 30],\n",
    "              [31, 32, 33, 34, 35]])\n",
    "y = x > 25\n",
    "print(y)\n",
    "\n",
    "print(x[x>25])"
   ]
  },
  {
   "cell_type": "code",
   "execution_count": 84,
   "metadata": {},
   "outputs": [
    {
     "name": "stdout",
     "output_type": "stream",
     "text": [
      "50\n",
      "25\n",
      "[ True  True  True  True  True  True  True  True  True  True  True  True\n",
      "  True  True  True  True  True  True  True  True  True  True  True  True\n",
      "  True False False False False False False False False False False False\n",
      " False False False False False False False False False False False False\n",
      " False False]\n",
      "[ True  True  True  True  True  True  True  True  True  True  True  True\n",
      "  True False False False False False False False False False False False\n",
      " False False False False False False False False False False False False\n",
      " False False False False False False False False False False False False\n",
      " False False]\n"
     ]
    },
    {
     "data": {
      "image/png": "[encoded data removed]",
      "text/plain": [
       "<Figure size 432x288 with 1 Axes>"
      ]
     },
     "metadata": {
      "needs_background": "light"
     },
     "output_type": "display_data"
    }
   ],
   "source": [
    "import matplotlib.pyplot as plt\n",
    "\n",
    "x = np.linspace(0, 2* np.pi, 50)\n",
    "y = np.sin(x)\n",
    "print(len(x))\n",
    "plt.plot(x, y)\n",
    "\n",
    "mask = y >= 0\n",
    "print(len(x[mask]))\n",
    "print(mask)\n",
    "\n",
    "plt.plot(x[mask], y[mask], 'bo')\n",
    "mask = np.logical_and(y >= 0, x <= np.pi / 2)\n",
    "print(mask)\n",
    "\n",
    "plt.plot(x[mask], y[mask], 'go')\n",
    "plt.show()"
   ]
  },
  {
   "cell_type": "code",
   "execution_count": 93,
   "metadata": {},
   "outputs": [
    {
     "name": "stdout",
     "output_type": "stream",
     "text": [
      "[105 110 115 120 125]\n",
      "[ 65  90 115 140 165]\n",
      "[21. 22. 23. 24. 25.]\n",
      "[13. 18. 23. 28. 33.]\n",
      "[21. 22. 23. 24. 25.]\n",
      "[13. 18. 23. 28. 33.]\n"
     ]
    }
   ],
   "source": [
    "# # 数组迭代 \n",
    "# 除了for循环，Numpy 还提供另外一种更为优雅的遍历方法。\n",
    "\n",
    "# apply_along_axis(func1d, axis, arr) Apply a function to 1-D slices along the given axis.\n",
    "\n",
    "x = np.array([[11, 12, 13, 14, 15],\n",
    "              [16, 17, 18, 19, 20],\n",
    "              [21, 22, 23, 24, 25],\n",
    "              [26, 27, 28, 29, 30],\n",
    "              [31, 32, 33, 34, 35]])\n",
    "y = np.apply_along_axis(np.sum, 0 , x)  #d第一列开始 每列求和 \n",
    "print(y)\n",
    "\n",
    "y = np.apply_along_axis(np.sum, 1, x)  # 每一行相加 循环迭代\n",
    "print(y)  \n",
    "\n",
    "y = np.apply_along_axis(np.mean, 0, x)\n",
    "print(y)\n",
    "\n",
    "y = np.apply_along_axis(np.mean, 1, x)\n",
    "print(y)\n",
    "\n",
    "\n",
    "def my_func(x):\n",
    "    return (x[0] + x[-1]) * 0.5\n",
    "\n",
    "\n",
    "y = np.apply_along_axis(my_func, 0, x)\n",
    "print(y)\n",
    "\n",
    "y = np.apply_along_axis(my_func, 1, x)\n",
    "print(y) "
   ]
  }
 ],
 "metadata": {
  "kernelspec": {
   "display_name": "tt",
   "language": "python",
   "name": "tt"
  },
  "language_info": {
   "codemirror_mode": {
    "name": "ipython",
    "version": 3
   },
   "file_extension": ".py",
   "mimetype": "text/x-python",
   "name": "python",
   "nbconvert_exporter": "python",
   "pygments_lexer": "ipython3",
   "version": "3.6.6"
  }
 },
 "nbformat": 4,
 "nbformat_minor": 2
}
