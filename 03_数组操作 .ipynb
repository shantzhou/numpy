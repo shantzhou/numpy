{
 "cells": [
  {
   "cell_type": "markdown",
   "metadata": {},
   "source": [
    "#### 在对数组进行操作时，为了满足格式和计算的要求通常会改变其形状。\n",
    "\n",
    "#### numpy.ndarray.shape表示数组的维度，返回一个元组，这个元组的长度就是维度的数目，即 ndim 属性(秩)。\n"
   ]
  },
  {
   "cell_type": "markdown",
   "metadata": {},
   "source": [
    "#### 通过修改 shape 属性来改变数组的形状。\n"
   ]
  },
  {
   "cell_type": "code",
   "execution_count": null,
   "metadata": {},
   "outputs": [],
   "source": [
    "import numpy as np \n",
    "x = np.array([1, 2, 9, 4, 5, 6, 7, 8])\n",
    "print(x.shape)\n",
    "x.shape = [2, 4]\n",
    "print(x)"
   ]
  },
  {
   "cell_type": "markdown",
   "metadata": {},
   "source": [
    "#### numpy.ndarray.flat 将数组转换为一维的迭代器，可以用for访问数组每一个元素。\n",
    "\n"
   ]
  },
  {
   "cell_type": "code",
   "execution_count": 15,
   "metadata": {},
   "outputs": [
    {
     "name": "stdout",
     "output_type": "stream",
     "text": [
      "11,12,13,14,15,16,17,18,19,20,21,22,23,24,25,26,27,28,29,30,31,32,33,34,35,\n",
      "[[11 12 13  0 15]\n",
      " [16 17 18 19 20]\n",
      " [21 22 23 24 25]\n",
      " [26 27 28 29 30]\n",
      " [31 32 33 34 35]]\n"
     ]
    }
   ],
   "source": [
    "x = np.array([[11, 12, 13, 14, 15],\n",
    "              [16, 17, 18, 19, 20],\n",
    "              [21, 22, 23, 24, 25],\n",
    "              [26, 27, 28, 29, 30],\n",
    "              [31, 32, 33, 34, 35]])\n",
    "y = x.flat\n",
    "for i in y:\n",
    "    print(i , end = ',')\n",
    "\n",
    "y[3] = 0 \n",
    "print(end = '\\n')\n",
    "print(x)\n"
   ]
  },
  {
   "cell_type": "markdown",
   "metadata": {},
   "source": [
    "####  numpy.ndarray.flatten([order='C']) 将数组的++副本++转换为一维数组，并返回。\n",
    "\n",
    "#### `order = {'C', 'F'}`，'C'：C-style，行序优先、'F'：Fortran-style，列序优先。\n",
    "\n"
   ]
  },
  {
   "cell_type": "markdown",
   "metadata": {},
   "source": [
    "#### flatten()函数返回的是拷贝。"
   ]
  },
  {
   "cell_type": "code",
   "execution_count": 20,
   "metadata": {},
   "outputs": [
    {
     "name": "stdout",
     "output_type": "stream",
     "text": [
      "[11 12 13 14 15 16 17 18 19 20 21 22 23 24 25 26 27 28 29 30 31 32 33 34\n",
      " 35]\n",
      "[[11 12 13 14 15]\n",
      " [16 17 18 19 20]\n",
      " [21 22 23 24 25]\n",
      " [26 27 28 29 30]\n",
      " [31 32 33 34 35]]\n",
      "[11 16 21 26 31 12 17 22 27 32 13 18 23 28 33 14 19 24 29 34 15 20 25 30\n",
      " 35]\n",
      "[[11 12 13 14 15]\n",
      " [16 17 18 19 20]\n",
      " [21 22 23 24 25]\n",
      " [26 27 28 29 30]\n",
      " [31 32 33 34 35]]\n"
     ]
    }
   ],
   "source": [
    "x = np.array([[11, 12, 13, 14, 15],\n",
    "              [16, 17, 18, 19, 20],\n",
    "              [21, 22, 23, 24, 25],\n",
    "              [26, 27, 28, 29, 30],\n",
    "              [31, 32, 33, 34, 35]])\n",
    "\n",
    "y = x.flatten()\n",
    "print(y)\n",
    "\n",
    "y[3] = 0\n",
    "print(x)\n",
    "\n",
    "x = np.array([[11, 12, 13, 14, 15],\n",
    "              [16, 17, 18, 19, 20],\n",
    "              [21, 22, 23, 24, 25],\n",
    "              [26, 27, 28, 29, 30],\n",
    "              [31, 32, 33, 34, 35]])\n",
    "\n",
    "y = x.flatten(order='F')\n",
    "print(y)\n",
    "\n",
    "y[3] = 0\n",
    "print(x)"
   ]
  },
  {
   "cell_type": "markdown",
   "metadata": {},
   "source": [
    "#### numpy.reshape(a, newshape[, order='C'])在不更改数据的情况下为数组赋予新的形状。"
   ]
  },
  {
   "cell_type": "code",
   "execution_count": 23,
   "metadata": {},
   "outputs": [
    {
     "name": "stdout",
     "output_type": "stream",
     "text": [
      "[[ 0  1  2  3]\n",
      " [ 4  5  6  7]\n",
      " [ 8  9 10 11]] int32\n",
      "[ 0 10  2  3  4  5  6  7  8  9 10 11]\n"
     ]
    }
   ],
   "source": [
    "x = np.arange(0, 12)\n",
    "y = np.reshape(x, [3, 4])\n",
    "print(y, y.dtype)\n",
    "\n",
    "y[0, 1] = 10\n",
    "print(x)  "
   ]
  },
  {
   "cell_type": "markdown",
   "metadata": {},
   "source": [
    "#### 例：reshape()函数当参数newshape = -1时表示将数组降为一维。"
   ]
  },
  {
   "cell_type": "code",
   "execution_count": 27,
   "metadata": {},
   "outputs": [
    {
     "name": "stdout",
     "output_type": "stream",
     "text": [
      "[[[ 7 10  9]\n",
      "  [ 3 11  8]]\n",
      "\n",
      " [[ 8  2  9]\n",
      "  [ 9 10  5]]]\n",
      "[ 7 10  9  3 11  8  8  2  9  9 10  5]\n"
     ]
    }
   ],
   "source": [
    "x = np.random.randint(12, size=[2, 2, 3])\n",
    "print(x)\n",
    "y = np.reshape(x, -1)\n",
    "print(y)"
   ]
  },
  {
   "cell_type": "markdown",
   "metadata": {},
   "source": [
    "#### numpy.ravel(a, order='C')Return a contiguous flattened array.\n",
    "\n",
    "#### 【例】ravel()返回的是视图"
   ]
  },
  {
   "cell_type": "code",
   "execution_count": 31,
   "metadata": {},
   "outputs": [
    {
     "name": "stdout",
     "output_type": "stream",
     "text": [
      "[11 12 13 14 15 16 17 18 19 20 21 22 23 24 25 26 27 28 29 30 31 32 33 34\n",
      " 35]\n",
      "[[11 12 13  0 15]\n",
      " [16 17 18 19 20]\n",
      " [21 22 23 24 25]\n",
      " [26 27 28 29 30]\n",
      " [31 32 33 34 35]]\n",
      "[11 16 21 26 31 12 17 22 27 32 13 18 23 28 33 14 19 24 29 34 15 20 25 30\n",
      " 35]\n",
      "[[11 12 13 14 15]\n",
      " [16 17 18 19 20]\n",
      " [21 22 23 24 25]\n",
      " [26 27 28 29 30]\n",
      " [31 32 33 34 35]]\n"
     ]
    }
   ],
   "source": [
    "x = np.array([[11, 12, 13, 14, 15],\n",
    "              [16, 17, 18, 19, 20],\n",
    "              [21, 22, 23, 24, 25],\n",
    "              [26, 27, 28, 29, 30],\n",
    "              [31, 32, 33, 34, 35]])\n",
    "y = np.ravel(x)\n",
    "print(y)\n",
    "\n",
    "y[3] = 0\n",
    "print(x)\n",
    "\n",
    "\n",
    "\n",
    "x = np.array([[11, 12, 13, 14, 15],\n",
    "              [16, 17, 18, 19, 20],\n",
    "              [21, 22, 23, 24, 25],\n",
    "              [26, 27, 28, 29, 30],\n",
    "              [31, 32, 33, 34, 35]])\n",
    "\n",
    "y = np.ravel(x, order='F')\n",
    "print(y)\n",
    "\n",
    "y[3] = 0\n",
    "print(x)"
   ]
  },
  {
   "cell_type": "markdown",
   "metadata": {},
   "source": [
    "#### 数组转置\n",
    "\n",
    "#### numpy.transpose(a, axes=None) Permute the dimensions of an array.\n",
    "\n",
    "#### numpy.ndarray.T Same as self.transpose(), except that self is returned if self.ndim < 2."
   ]
  },
  {
   "cell_type": "code",
   "execution_count": 38,
   "metadata": {},
   "outputs": [
    {
     "name": "stdout",
     "output_type": "stream",
     "text": [
      "[[5.4 7.2 7.6 9.  6.8]\n",
      " [8.9 5.6 5.7 8.1 9.4]\n",
      " [3.2 0.7 1.2 1.  9.5]\n",
      " [3.1 4.3 6.3 8.4 0.1]\n",
      " [7.5 5.2 3.  9.1 1.7]]\n",
      "[[5.4 8.9 3.2 3.1 7.5]\n",
      " [7.2 5.6 0.7 4.3 5.2]\n",
      " [7.6 5.7 1.2 6.3 3. ]\n",
      " [9.  8.1 1.  8.4 9.1]\n",
      " [6.8 9.4 9.5 0.1 1.7]]\n",
      "[[5.4 8.9 3.2 3.1 7.5]\n",
      " [7.2 5.6 0.7 4.3 5.2]\n",
      " [7.6 5.7 1.2 6.3 3. ]\n",
      " [9.  8.1 1.  8.4 9.1]\n",
      " [6.8 9.4 9.5 0.1 1.7]]\n"
     ]
    }
   ],
   "source": [
    "x = np.random.rand(5, 5) * 10  #np.random.rand 返回的是服从0-1均匀分布的随机样本值\n",
    "x = np.around(x, 1)  #保留小数点后几位  \n",
    "print(x)\n",
    "\n",
    "y = x.T\n",
    "print(y)\n",
    "\n",
    "\n",
    "y = np.transpose(x)\n",
    "print(y)"
   ]
  },
  {
   "cell_type": "markdown",
   "metadata": {},
   "source": [
    "#### 更改维度\n",
    "\n",
    "#### 当创建一个数组之后，还可以给它增加一个维度，这在矩阵计算中经常会用到。\n",
    "\n",
    "#### numpy.newaxis = None None的别名，对索引数组很有用。\n",
    "\n",
    "#### 【例】很多工具包在进行计算时都会先判断输入数据的维度是否满足要求，\n",
    "#### 如果输入数据达不到指定的维度时，可以使用newaxis参数来增加一个维度。"
   ]
  },
  {
   "cell_type": "code",
   "execution_count": 46,
   "metadata": {},
   "outputs": [
    {
     "name": "stdout",
     "output_type": "stream",
     "text": [
      "(8,)\n",
      "[1 2 9 4 5 6 7 8]\n",
      "(1, 8)\n",
      "[[1 2 9 4 5 6 7 8]]\n",
      "(8, 1)\n",
      "[[1]\n",
      " [2]\n",
      " [9]\n",
      " [4]\n",
      " [5]\n",
      " [6]\n",
      " [7]\n",
      " [8]]\n"
     ]
    }
   ],
   "source": [
    "x = np.array([1, 2, 9, 4, 5, 6, 7, 8])\n",
    "print(x.shape)\n",
    "print(x)\n",
    "\n",
    "y = x[np.newaxis, :]\n",
    "print(y.shape)\n",
    "print(y) \n",
    "\n",
    "y = x[:, np.newaxis]\n",
    "print(y.shape) \n",
    "print(y)"
   ]
  },
  {
   "cell_type": "markdown",
   "metadata": {},
   "source": [
    "#### numpy.squeeze(a, axis=None) 从数组的形状中删除单维度条目，即把shape中为1的维度去掉。\n",
    "#### `a`表示输入的数组；\n",
    "\n",
    "#### `axis`用于指定需要删除的维度，但是指定的维度必须为单维度，否则将会报错；\n",
    "\n",
    "#### 在机器学习和深度学习中，通常算法的结果是可以表示向量的数组（即包含两对或以上的方括号形式[[]]），\n",
    "\n",
    "#### 如果直接利用这个数组进行画图可能显示界面为空（见后面的示例）。我们可以利用squeeze()函数将表示向量的数组转换为秩为1的数组，\n",
    "#### 这样利用 matplotlib 库函数画图时，就可以正常的显示结果了。"
   ]
  },
  {
   "cell_type": "code",
   "execution_count": 50,
   "metadata": {},
   "outputs": [
    {
     "name": "stdout",
     "output_type": "stream",
     "text": [
      "(10,)\n",
      "(1, 10)\n",
      "(10,)\n"
     ]
    }
   ],
   "source": [
    "x = np.arange(10)\n",
    "print(x.shape)\n",
    "x = x[np.newaxis, :]\n",
    "print(x.shape)\n",
    "y = np.squeeze(x)\n",
    "print(y.shape)"
   ]
  },
  {
   "cell_type": "code",
   "execution_count": 60,
   "metadata": {},
   "outputs": [
    {
     "name": "stdout",
     "output_type": "stream",
     "text": [
      "(1, 3, 1)\n",
      "[[[0]\n",
      "  [1]\n",
      "  [2]]]\n",
      "(3,)\n",
      "[0 1 2]\n",
      "(3, 1)\n",
      "[[0]\n",
      " [1]\n",
      " [2]]\n",
      "(1, 3)\n",
      "[[0 1 2]]\n"
     ]
    },
    {
     "ename": "ValueError",
     "evalue": "cannot select an axis to squeeze out which has size not equal to one",
     "output_type": "error",
     "traceback": [
      "\u001b[1;31m---------------------------------------------------------------------------\u001b[0m",
      "\u001b[1;31mValueError\u001b[0m                                Traceback (most recent call last)",
      "\u001b[1;32m<ipython-input-60-4a9e1f6c90ee>\u001b[0m in \u001b[0;36m<module>\u001b[1;34m\u001b[0m\n\u001b[0;32m     15\u001b[0m \u001b[0mprint\u001b[0m\u001b[1;33m(\u001b[0m\u001b[0my\u001b[0m\u001b[1;33m)\u001b[0m\u001b[1;33m\u001b[0m\u001b[0m\n\u001b[0;32m     16\u001b[0m \u001b[1;33m\u001b[0m\u001b[0m\n\u001b[1;32m---> 17\u001b[1;33m \u001b[0my\u001b[0m \u001b[1;33m=\u001b[0m \u001b[0mnp\u001b[0m\u001b[1;33m.\u001b[0m\u001b[0msqueeze\u001b[0m\u001b[1;33m(\u001b[0m\u001b[0mx\u001b[0m\u001b[1;33m,\u001b[0m \u001b[0maxis\u001b[0m\u001b[1;33m=\u001b[0m\u001b[1;36m1\u001b[0m\u001b[1;33m)\u001b[0m\u001b[1;33m\u001b[0m\u001b[0m\n\u001b[0m",
      "\u001b[1;32mC:\\sw\\anaconda\\install\\envs\\tt\\lib\\site-packages\\numpy\\core\\fromnumeric.py\u001b[0m in \u001b[0;36msqueeze\u001b[1;34m(a, axis)\u001b[0m\n\u001b[0;32m   1386\u001b[0m         \u001b[1;32mreturn\u001b[0m \u001b[0msqueeze\u001b[0m\u001b[1;33m(\u001b[0m\u001b[1;33m)\u001b[0m\u001b[1;33m\u001b[0m\u001b[0m\n\u001b[0;32m   1387\u001b[0m     \u001b[1;32melse\u001b[0m\u001b[1;33m:\u001b[0m\u001b[1;33m\u001b[0m\u001b[0m\n\u001b[1;32m-> 1388\u001b[1;33m         \u001b[1;32mreturn\u001b[0m \u001b[0msqueeze\u001b[0m\u001b[1;33m(\u001b[0m\u001b[0maxis\u001b[0m\u001b[1;33m=\u001b[0m\u001b[0maxis\u001b[0m\u001b[1;33m)\u001b[0m\u001b[1;33m\u001b[0m\u001b[0m\n\u001b[0m\u001b[0;32m   1389\u001b[0m \u001b[1;33m\u001b[0m\u001b[0m\n\u001b[0;32m   1390\u001b[0m \u001b[1;33m\u001b[0m\u001b[0m\n",
      "\u001b[1;31mValueError\u001b[0m: cannot select an axis to squeeze out which has size not equal to one"
     ]
    }
   ],
   "source": [
    "x = np.array([[[0], [1], [2]]])\n",
    "print(x.shape) \n",
    "print(x)\n",
    "\n",
    "y = np.squeeze(x)\n",
    "print(y.shape) \n",
    "print(y) \n",
    "\n",
    "y = np.squeeze(x, axis=0)\n",
    "print(y.shape)\n",
    "print(y)\n",
    "\n",
    "y = np.squeeze(x, axis=2)\n",
    "print(y.shape)\n",
    "print(y)\n",
    "\n",
    "y = np.squeeze(x, axis=1) "
   ]
  },
  {
   "cell_type": "code",
   "execution_count": 62,
   "metadata": {},
   "outputs": [
    {
     "name": "stdout",
     "output_type": "stream",
     "text": [
      "(1, 5)\n"
     ]
    },
    {
     "data": {
      "image/png": "[encoded data removed]",
      "text/plain": [
       "<Figure size 432x288 with 1 Axes>"
      ]
     },
     "metadata": {
      "needs_background": "light"
     },
     "output_type": "display_data"
    }
   ],
   "source": [
    "import matplotlib.pyplot as plt\n",
    "x = np.array([[1, 4, 9, 16, 25]])\n",
    "print(x.shape)\n",
    "plt.plot(x)\n",
    "plt.show()"
   ]
  },
  {
   "cell_type": "code",
   "execution_count": 64,
   "metadata": {},
   "outputs": [
    {
     "name": "stdout",
     "output_type": "stream",
     "text": [
      "(5,)\n"
     ]
    },
    {
     "data": {
      "image/png": "[encoded data removed]",
      "text/plain": [
       "<Figure size 432x288 with 1 Axes>"
      ]
     },
     "metadata": {
      "needs_background": "light"
     },
     "output_type": "display_data"
    }
   ],
   "source": [
    "x = np.array([[1, 4, 9, 16, 25]])\n",
    "x = np.squeeze(x)\n",
    "print(x.shape)  # (5, )\n",
    "plt.plot(x)\n",
    "plt.show()"
   ]
  },
  {
   "cell_type": "markdown",
   "metadata": {},
   "source": [
    "#### 组合数组\n",
    "\n",
    "#### 如果要将两份数据组合到一起，就需要拼接操作。\n",
    "\n",
    "#### numpy.concatenate((a1, a2, …), axis=0, out=None) Join a sequence of arrays along an existing axis.\n",
    "\n",
    "#### 【例】连接沿现有轴的数组序列（原来x，y都是一维的，拼接后的结果也是一维的）。"
   ]
  },
  {
   "cell_type": "code",
   "execution_count": 67,
   "metadata": {},
   "outputs": [
    {
     "name": "stdout",
     "output_type": "stream",
     "text": [
      "[1 2 3 7 8 9]\n",
      "[1 2 3 7 8 9]\n"
     ]
    }
   ],
   "source": [
    "x = np.array([1, 2, 3])\n",
    "y = np.array([7, 8, 9])\n",
    "z = np.concatenate([x, y])\n",
    "print(z)\n",
    "\n",
    "z = np.concatenate([x, y], axis=0)\n",
    "print(z)"
   ]
  },
  {
   "cell_type": "markdown",
   "metadata": {},
   "source": [
    "#### 原来x，y都是二维的，拼接后的结果也是二维的。"
   ]
  },
  {
   "cell_type": "code",
   "execution_count": 70,
   "metadata": {},
   "outputs": [
    {
     "name": "stdout",
     "output_type": "stream",
     "text": [
      "[[1 2 3]\n",
      " [7 8 9]]\n",
      "[[1 2 3]\n",
      " [7 8 9]]\n",
      "[[1 2 3 7 8 9]]\n"
     ]
    }
   ],
   "source": [
    "x = np.array([1, 2, 3]).reshape(1, 3)\n",
    "y = np.array([7, 8, 9]).reshape(1, 3)\n",
    "z = np.concatenate([x, y])\n",
    "print(z)\n",
    "z = np.concatenate([x, y], axis=0)\n",
    "print(z)\n",
    "z = np.concatenate([x, y], axis=1)\n",
    "print(z)"
   ]
  },
  {
   "cell_type": "code",
   "execution_count": 76,
   "metadata": {},
   "outputs": [
    {
     "name": "stdout",
     "output_type": "stream",
     "text": [
      "(2, 3)\n",
      "(2, 3)\n",
      "[[ 1  2  3]\n",
      " [ 4  5  6]\n",
      " [ 7  8  9]\n",
      " [10 11 12]]\n",
      "(4, 3)\n",
      "[[ 1  2  3]\n",
      " [ 4  5  6]\n",
      " [ 7  8  9]\n",
      " [10 11 12]]\n",
      "(4, 3)\n",
      "[[ 1  2  3  7  8  9]\n",
      " [ 4  5  6 10 11 12]]\n",
      "(2, 6)\n"
     ]
    }
   ],
   "source": [
    "x = np.array([[1, 2, 3], [4, 5, 6]])\n",
    "y = np.array([[7, 8, 9], [10, 11, 12]])\n",
    "print(x.shape)\n",
    "print(y.shape)\n",
    "z = np.concatenate([x, y])\n",
    "print(z)\n",
    "print(z.shape)\n",
    "z = np.concatenate([x, y], axis=0)\n",
    "print(z)\n",
    "print(z.shape)\n",
    "z = np.concatenate([x, y], axis=1)\n",
    "print(z)\n",
    "print(z.shape)"
   ]
  },
  {
   "cell_type": "markdown",
   "metadata": {},
   "source": [
    "#### numpy.stack(arrays, axis=0, out=None)Join a sequence of arrays along a new axis.\n",
    "#### 【例】沿着新的轴加入一系列数组（stack为增加维度的拼接）。"
   ]
  },
  {
   "cell_type": "code",
   "execution_count": 80,
   "metadata": {},
   "outputs": [
    {
     "name": "stdout",
     "output_type": "stream",
     "text": [
      "(3,)\n",
      "(2, 3)\n",
      "[[1 2 3]\n",
      " [7 8 9]]\n",
      "(3, 2)\n",
      "[[1 7]\n",
      " [2 8]\n",
      " [3 9]]\n"
     ]
    }
   ],
   "source": [
    "x = np.array([1, 2, 3])\n",
    "y = np.array([7, 8, 9])\n",
    "print(x.shape)\n",
    "z = np.stack([x, y])\n",
    "print(z.shape)  # (2, 3)\n",
    "print(z)\n",
    "\n",
    "z = np.stack([x, y], axis=1)\n",
    "print(z.shape)  # (3, 2)\n",
    "print(z)"
   ]
  },
  {
   "cell_type": "code",
   "execution_count": 84,
   "metadata": {},
   "outputs": [
    {
     "name": "stdout",
     "output_type": "stream",
     "text": [
      "(2, 1, 3)\n",
      "[[[1 2 3]]\n",
      "\n",
      " [[7 8 9]]]\n",
      "(1, 2, 3)\n",
      "[[[1 2 3]\n",
      "  [7 8 9]]]\n",
      "(1, 3, 2)\n",
      "[[[1 7]\n",
      "  [2 8]\n",
      "  [3 9]]]\n"
     ]
    }
   ],
   "source": [
    "x = np.array([1, 2, 3]).reshape(1, 3)\n",
    "y = np.array([7, 8, 9]).reshape(1, 3)\n",
    "z = np.stack([x, y])\n",
    "print(z.shape)  # (2, 1, 3)\n",
    "print(z)\n",
    "\n",
    "z = np.stack([x, y], axis=1)\n",
    "print(z.shape)  # (1, 2, 3)\n",
    "print(z)\n",
    "\n",
    "z = np.stack([x, y], axis=2)\n",
    "print(z.shape)  # (1, 3, 2)\n",
    "print(z)"
   ]
  },
  {
   "cell_type": "code",
   "execution_count": 89,
   "metadata": {},
   "outputs": [
    {
     "name": "stdout",
     "output_type": "stream",
     "text": [
      "(2, 2, 3)\n",
      "[[[ 1  2  3]\n",
      "  [ 4  5  6]]\n",
      "\n",
      " [[ 7  8  9]\n",
      "  [10 11 12]]]\n",
      "(2, 2, 3)\n",
      "[[[ 1  2  3]\n",
      "  [ 7  8  9]]\n",
      "\n",
      " [[ 4  5  6]\n",
      "  [10 11 12]]]\n",
      "(2, 3, 2)\n",
      "[[[ 1  7]\n",
      "  [ 2  8]\n",
      "  [ 3  9]]\n",
      "\n",
      " [[ 4 10]\n",
      "  [ 5 11]\n",
      "  [ 6 12]]]\n"
     ]
    }
   ],
   "source": [
    "x = np.array([[1, 2, 3], [4, 5, 6]])\n",
    "y = np.array([[7, 8, 9], [10, 11, 12]])\n",
    "z = np.stack([x, y])\n",
    "print(z.shape)  # (2, 2, 3)\n",
    "print(z)\n",
    "\n",
    "z = np.stack([x, y], axis=1)\n",
    "print(z.shape)  # (2, 2, 3)\n",
    "print(z)\n",
    "\n",
    "z = np.stack([x, y], axis=2)\n",
    "print(z.shape)  # (2, 3, 2)\n",
    "print(z)"
   ]
  },
  {
   "cell_type": "markdown",
   "metadata": {},
   "source": [
    "#### numpy.vstack(tup)Stack arrays in sequence vertically (row wise).\n",
    "#### numpy.hstack(tup)Stack arrays in sequence horizontally (column wise)."
   ]
  },
  {
   "cell_type": "code",
   "execution_count": 95,
   "metadata": {},
   "outputs": [
    {
     "name": "stdout",
     "output_type": "stream",
     "text": [
      "(2, 3)\n",
      "[[1 2 3]\n",
      " [7 8 9]]\n",
      "(2, 3)\n",
      "[[1 2 3]\n",
      " [7 8 9]]\n",
      "(6,)\n",
      "[1 2 3 7 8 9]\n",
      "(6,)\n",
      "[1 2 3 7 8 9]\n"
     ]
    }
   ],
   "source": [
    "x = np.array([1, 2, 3])\n",
    "y = np.array([7, 8, 9])\n",
    "z = np.vstack((x, y))\n",
    "print(z.shape)  # (2, 3)\n",
    "print(z)\n",
    "\n",
    "z = np.stack([x, y])\n",
    "print(z.shape)  # (2, 3)\n",
    "print(z)\n",
    "\n",
    "\n",
    "z = np.hstack((x, y))\n",
    "print(z.shape)  # (6,)\n",
    "print(z)\n",
    "\n",
    "z = np.concatenate((x, y))\n",
    "print(z.shape)  # (6,)\n",
    "print(z)"
   ]
  },
  {
   "cell_type": "code",
   "execution_count": 99,
   "metadata": {},
   "outputs": [
    {
     "name": "stdout",
     "output_type": "stream",
     "text": [
      "(2, 3)\n",
      "[[1 2 3]\n",
      " [7 8 9]]\n",
      "(2, 3)\n",
      "[[1 2 3]\n",
      " [7 8 9]]\n",
      "(1, 6)\n",
      "[[1 2 3 7 8 9]]\n"
     ]
    }
   ],
   "source": [
    "# 二维\n",
    "x = np.array([1, 2, 3]).reshape(1, 3)\n",
    "y = np.array([7, 8, 9]).reshape(1, 3)\n",
    "z = np.vstack((x, y))\n",
    "print(z.shape)  # (2, 3)\n",
    "print(z)\n",
    "\n",
    "\n",
    "z = np.concatenate((x, y), axis=0)\n",
    "print(z.shape)  # (2, 3)\n",
    "print(z)\n",
    "\n",
    "z = np.hstack((x, y))\n",
    "print(z.shape)  # (1, 6)\n",
    "print(z)"
   ]
  },
  {
   "cell_type": "code",
   "execution_count": 102,
   "metadata": {},
   "outputs": [
    {
     "name": "stdout",
     "output_type": "stream",
     "text": [
      "(4, 3)\n",
      "[[ 1  2  3]\n",
      " [ 4  5  6]\n",
      " [ 7  8  9]\n",
      " [10 11 12]]\n",
      "(4, 3)\n",
      "[[ 1  2  3]\n",
      " [ 4  5  6]\n",
      " [ 7  8  9]\n",
      " [10 11 12]]\n",
      "(2, 6)\n",
      "[[ 1  2  3  7  8  9]\n",
      " [ 4  5  6 10 11 12]]\n",
      "(2, 6)\n",
      "[[ 1  2  3  7  8  9]\n",
      " [ 4  5  6 10 11 12]]\n"
     ]
    }
   ],
   "source": [
    "x = np.array([[1, 2, 3], [4, 5, 6]])\n",
    "y = np.array([[7, 8, 9], [10, 11, 12]])\n",
    "z = np.vstack((x, y))\n",
    "print(z.shape)  # (4, 3)\n",
    "print(z)\n",
    "\n",
    "z = np.concatenate((x, y), axis=0)\n",
    "print(z.shape)  # (4, 3)\n",
    "print(z)\n",
    "\n",
    "z = np.hstack((x, y))\n",
    "print(z.shape)  # (2, 6)\n",
    "print(z)\n",
    "z = np.concatenate((x, y), axis=1)\n",
    "print(z.shape)  # (2, 6)\n",
    "print(z)"
   ]
  },
  {
   "cell_type": "markdown",
   "metadata": {},
   "source": [
    "#### hstack(),vstack()分别表示水平和竖直的拼接方式。在数据维度等于1时，比较特殊。\n",
    "#### 而当维度大于或等于2时，它们的作用相当于concatenate，用于在已有轴上进行操作。\n",
    "#### 拆分数组\n",
    "\n",
    "#### numpy.split(ary, indices_or_sections, axis=0) Split an array into multiple sub-arrays as views into ary."
   ]
  },
  {
   "cell_type": "code",
   "execution_count": 105,
   "metadata": {},
   "outputs": [
    {
     "name": "stdout",
     "output_type": "stream",
     "text": [
      "[array([[11, 12, 13, 14]]), array([[16, 17, 18, 19],\n",
      "       [21, 22, 23, 24]]), array([], shape=(0, 4), dtype=int32)]\n",
      "[array([[11],\n",
      "       [16],\n",
      "       [21]]), array([[12, 13],\n",
      "       [17, 18],\n",
      "       [22, 23]]), array([[14],\n",
      "       [19],\n",
      "       [24]])]\n"
     ]
    }
   ],
   "source": [
    "x = np.array([[11, 12, 13, 14],\n",
    "              [16, 17, 18, 19],\n",
    "              [21, 22, 23, 24]])\n",
    "y = np.split(x, [1, 3])\n",
    "print(y)\n",
    "\n",
    "y = np.split(x, [1, 3], axis=1)\n",
    "print(y)\n"
   ]
  },
  {
   "cell_type": "markdown",
   "metadata": {},
   "source": [
    "#### numpy.vsplit(ary, indices_or_sections) Split an array into multiple sub-arrays vertically (row-wise).\n",
    "#### 【例】垂直切分是把数组按照高度切分"
   ]
  },
  {
   "cell_type": "code",
   "execution_count": 111,
   "metadata": {},
   "outputs": [
    {
     "name": "stdout",
     "output_type": "stream",
     "text": [
      "[array([[11, 12, 13, 14]]), array([[16, 17, 18, 19]]), array([[21, 22, 23, 24]])]\n",
      "[array([[11, 12, 13, 14]]), array([[16, 17, 18, 19]]), array([[21, 22, 23, 24]])]\n",
      "[array([[11, 12, 13, 14]]), array([[16, 17, 18, 19],\n",
      "       [21, 22, 23, 24]])]\n",
      "[array([[11, 12, 13, 14]]), array([[16, 17, 18, 19],\n",
      "       [21, 22, 23, 24]])]\n",
      "2222\n",
      "[array([[11, 12, 13, 14]]), array([[16, 17, 18, 19],\n",
      "       [21, 22, 23, 24]]), array([], shape=(0, 4), dtype=int32)]\n",
      "[array([[11, 12, 13, 14]]), array([[16, 17, 18, 19],\n",
      "       [21, 22, 23, 24]]), array([], shape=(0, 4), dtype=int32)]\n"
     ]
    }
   ],
   "source": [
    "x = np.array([[11, 12, 13, 14],\n",
    "              [16, 17, 18, 19],\n",
    "              [21, 22, 23, 24]])\n",
    "y = np.vsplit(x, 3)\n",
    "print(y)\n",
    "\n",
    "\n",
    "y = np.split(x, 3)\n",
    "print(y)\n",
    "\n",
    "y = np.vsplit(x, [1])\n",
    "print(y)\n",
    "\n",
    "y = np.split(x, [1])\n",
    "print(y)\n",
    "print('2222')\n",
    "y = np.vsplit(x, [1, 3])\n",
    "print(y)\n",
    "\n",
    "y = np.split(x, [1, 3], axis=0)\n",
    "print(y)"
   ]
  },
  {
   "cell_type": "markdown",
   "metadata": {},
   "source": [
    "#### numpy.hsplit(ary, indices_or_sections) Split an array into multiple sub-arrays horizontally (column-wise).\n",
    "#### 【例】水平切分是把数组按照宽度切分。"
   ]
  },
  {
   "cell_type": "code",
   "execution_count": 117,
   "metadata": {},
   "outputs": [
    {
     "name": "stdout",
     "output_type": "stream",
     "text": [
      "[array([[11, 12],\n",
      "       [16, 17],\n",
      "       [21, 22]]), array([[13, 14],\n",
      "       [18, 19],\n",
      "       [23, 24]])]\n",
      "[array([[11, 12],\n",
      "       [16, 17],\n",
      "       [21, 22]]), array([[13, 14],\n",
      "       [18, 19],\n",
      "       [23, 24]])]\n",
      "[array([[11, 12, 13],\n",
      "       [16, 17, 18],\n",
      "       [21, 22, 23]]), array([[14],\n",
      "       [19],\n",
      "       [24]])]\n",
      "[array([[11, 12, 13],\n",
      "       [16, 17, 18],\n",
      "       [21, 22, 23]]), array([[14],\n",
      "       [19],\n",
      "       [24]])]\n",
      "[array([[11],\n",
      "       [16],\n",
      "       [21]]), array([[12, 13],\n",
      "       [17, 18],\n",
      "       [22, 23]]), array([[14],\n",
      "       [19],\n",
      "       [24]])]\n",
      "[array([[11],\n",
      "       [16],\n",
      "       [21]]), array([[12, 13],\n",
      "       [17, 18],\n",
      "       [22, 23]]), array([[14],\n",
      "       [19],\n",
      "       [24]])]\n"
     ]
    }
   ],
   "source": [
    "x = np.array([[11, 12, 13, 14],\n",
    "              [16, 17, 18, 19],\n",
    "              [21, 22, 23, 24]])\n",
    "y = np.hsplit(x, 2)\n",
    "print(y)\n",
    "\n",
    "y = np.split(x, 2, axis=1)\n",
    "print(y)\n",
    "\n",
    "y = np.hsplit(x, [3])\n",
    "print(y)\n",
    "\n",
    "y = np.split(x, [3], axis=1)\n",
    "print(y)\n",
    "\n",
    "\n",
    "y = np.hsplit(x, [1, 3])\n",
    "print(y)\n",
    "\n",
    "\n",
    "y = np.split(x, [1, 3], axis=1)\n",
    "print(y)"
   ]
  },
  {
   "cell_type": "markdown",
   "metadata": {},
   "source": [
    "#### 平铺数组\n",
    "\n",
    "#### numpy.tile(A, reps) Construct an array by repeating A the number of times given by reps.\n",
    "\n",
    "#### tile是瓷砖的意思，顾名思义，这个函数就是把数组像瓷砖一样铺展开来。\n",
    "\n",
    "#### 【例】将原矩阵横向、纵向地复制。\n"
   ]
  },
  {
   "cell_type": "code",
   "execution_count": 122,
   "metadata": {},
   "outputs": [
    {
     "name": "stdout",
     "output_type": "stream",
     "text": [
      "[[1 2]\n",
      " [3 4]]\n",
      "[[1 2 1 2 1 2]\n",
      " [3 4 3 4 3 4]]\n",
      "[[1 2]\n",
      " [3 4]\n",
      " [1 2]\n",
      " [3 4]\n",
      " [1 2]\n",
      " [3 4]]\n",
      "[[1 2 1 2 1 2]\n",
      " [3 4 3 4 3 4]\n",
      " [1 2 1 2 1 2]\n",
      " [3 4 3 4 3 4]\n",
      " [1 2 1 2 1 2]\n",
      " [3 4 3 4 3 4]]\n"
     ]
    }
   ],
   "source": [
    "x = np.array([[1, 2], [3, 4]])\n",
    "print(x)\n",
    "\n",
    "y = np.tile(x, (1, 3))\n",
    "print(y)\n",
    "\n",
    "y = np.tile(x, (3, 1))\n",
    "print(y)\n",
    "\n",
    "y = np.tile(x, (3, 3))\n",
    "print(y)"
   ]
  },
  {
   "cell_type": "markdown",
   "metadata": {},
   "source": [
    "#### numpy.repeat(a, repeats, axis=None) Repeat elements of an array.\n",
    "#### `axis=0`，沿着y轴复制，实际上增加了行数。\n",
    "\n",
    "#### `axis=1`，沿着x轴复制，实际上增加了列数。\n",
    "\n",
    "#### `repeats`，可以为一个数，也可以为一个矩阵。\n",
    "\n",
    "#### `axis=None`时就会flatten当前矩阵，实际上就是变成了一个行向量。\n",
    "#### 【例】重复数组的元素。"
   ]
  },
  {
   "cell_type": "code",
   "execution_count": 131,
   "metadata": {},
   "outputs": [
    {
     "name": "stdout",
     "output_type": "stream",
     "text": [
      "[3 3 3 3]\n",
      "[1 1 2 2 3 3 4 4]\n",
      "[[1 2]\n",
      " [1 2]\n",
      " [3 4]\n",
      " [3 4]]\n",
      "[[1 1 2 2]\n",
      " [3 3 4 4]]\n",
      "[[1 2]\n",
      " [1 2]\n",
      " [3 4]\n",
      " [3 4]\n",
      " [3 4]]\n",
      "[[1 1 2 2 2]\n",
      " [3 3 4 4 4]]\n"
     ]
    }
   ],
   "source": [
    "x = np.repeat(3, 4)\n",
    "print(x)\n",
    "\n",
    "x = np.array([[1, 2], [3, 4]])\n",
    "y = np.repeat(x, 2)\n",
    "print(y)\n",
    "\n",
    "y = np.repeat(x, 2, axis=0)\n",
    "print(y)\n",
    "\n",
    "\n",
    "y = np.repeat(x, 2, axis=1)\n",
    "print(y)\n",
    "\n",
    "y = np.repeat(x, [2, 3], axis=0)\n",
    "print(y)\n",
    "y = np.repeat(x, [2, 3], axis=1)\n",
    "print(y)"
   ]
  }
 ],
 "metadata": {
  "kernelspec": {
   "display_name": "tt",
   "language": "python",
   "name": "tt"
  },
  "language_info": {
   "codemirror_mode": {
    "name": "ipython",
    "version": 3
   },
   "file_extension": ".py",
   "mimetype": "text/x-python",
   "name": "python",
   "nbconvert_exporter": "python",
   "pygments_lexer": "ipython3",
   "version": "3.6.6"
  }
 },
 "nbformat": 4,
 "nbformat_minor": 2
}
